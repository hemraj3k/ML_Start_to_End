{
 "cells": [
  {
   "cell_type": "markdown",
   "id": "ccc42f0c-722a-40cd-a107-41e1aaf0e2ad",
   "metadata": {},
   "source": [
    "SciPy Library – A Deep Dive\n",
    "\n",
    "What is SciPy?\n",
    "SciPy (Scientific Python) is an open-source library used for scientific and technical computing. It extends NumPy and provides modules for optimization, signal processing, linear algebra, integration, interpolation, image processing, statistics, and more.\n",
    "\n",
    "🔹 Built on NumPy (N-dimensional array computing).\n",
    "🔹 Provides high-level functions for scientific computing.\n",
    "🔹 Faster and optimized using C, C++, and Fortran under the hood."
   ]
  },
  {
   "cell_type": "markdown",
   "id": "42b07d0a-428d-49d2-b955-de50d8950ac1",
   "metadata": {},
   "source": [
    "Key Features of SciPy\n",
    "\n",
    "SciPy provides specialized modules for various scientific computing tasks. Below are its core functionalities:\n",
    "\n",
    "1️⃣ SciPy Subpackages & Their Uses\n",
    " SciPy Submodule Purpose\t             Example Functions\n",
    "scipy.linalg\tLinear Algebra\tinv(), eig(), svd()\n",
    "scipy.optimize\tOptimization & Root Finding\tminimize(), curve_fit(), fsolve()\n",
    "scipy.integrate\tIntegration & ODE Solvers\tquad(), dblquad(), odeint()\n",
    "scipy.stats\tStatistics & Probability\tnorm.cdf(), t.test(), pearsonr()\n",
    "scipy.signal\tSignal Processing\tbutter(), spectrogram(), convolve()\n",
    "scipy.interpolate\tInterpolation\tinterp1d(), griddata()\n",
    "scipy.sparse\tSparse Matrix Operations\tcsr_matrix(), csc_matrix()\n",
    "scipy.ndimage\tImage Processing\tgaussian_filter(), sobel()       "
   ]
  },
  {
   "cell_type": "markdown",
   "id": "cf49fc0a-49a4-4fa9-bea5-9f498d4e0a63",
   "metadata": {},
   "source": [
    "2️⃣ SciPy in Action – Hands-on Examples\n",
    "\n",
    "Let's go through some real-world use cases of SciPy with code examples."
   ]
  },
  {
   "cell_type": "markdown",
   "id": "5b1c8625-da17-4e4d-9180-d7b5b5899b7b",
   "metadata": {},
   "source": [
    "📌 1. Linear Algebra (scipy.linalg)\n",
    "\n",
    "SciPy's linalg module provides fast and optimized linear algebra functions.\n",
    "\n",
    "✅ Example: Compute Inverse & Eigenvalues"
   ]
  },
  {
   "cell_type": "code",
   "execution_count": 2,
   "id": "24070f31-f675-43a9-8d7f-b3063e9a881b",
   "metadata": {},
   "outputs": [
    {
     "name": "stdout",
     "output_type": "stream",
     "text": [
      "Matrix Inverse:\n",
      " [[-0.5  1. ]\n",
      " [ 1.5 -2. ]]\n",
      "Eigenvalues:\n",
      " [ 5.37228132+0.j -0.37228132+0.j]\n",
      "Eigenvectors:\n",
      " [[ 0.82456484 -0.41597356]\n",
      " [ 0.56576746  0.90937671]]\n"
     ]
    }
   ],
   "source": [
    "import numpy as np\n",
    "from scipy.linalg import inv, eig\n",
    "\n",
    "# Define a square matrix\n",
    "A = np.array([[4, 2], \n",
    "              [3, 1]])\n",
    "\n",
    "# Compute the inverse of the matrix\n",
    "A_inv = inv(A)\n",
    "\n",
    "# Compute eigenvalues and eigenvectors\n",
    "eigenvalues, eigenvectors = eig(A)\n",
    "\n",
    "print(\"Matrix Inverse:\\n\", A_inv)\n",
    "print(\"Eigenvalues:\\n\", eigenvalues)\n",
    "print(\"Eigenvectors:\\n\", eigenvectors)\n"
   ]
  },
  {
   "cell_type": "markdown",
   "id": "b7566b19-9020-4ad1-a769-b8dd3e33a605",
   "metadata": {},
   "source": [
    "📌 2. Optimization (scipy.optimize)\n",
    "\n",
    "Used for finding minima, maxima, and solving equations.\n",
    "\n",
    "✅ Example: Minimize a Function"
   ]
  },
  {
   "cell_type": "code",
   "execution_count": 4,
   "id": "1cfba3c3-647a-4a62-a13e-eed9a5834f19",
   "metadata": {},
   "outputs": [
    {
     "name": "stdout",
     "output_type": "stream",
     "text": [
      "Minimum Value of x: [3.00000003]\n"
     ]
    }
   ],
   "source": [
    "from scipy.optimize import minimize\n",
    "\n",
    "# Define a function to minimize\n",
    "def f(x):\n",
    "    return (x - 3) ** 2 + 5\n",
    "\n",
    "# Minimize function starting at x=0\n",
    "result = minimize(f, x0=0)\n",
    "\n",
    "print(\"Minimum Value of x:\", result.x)\n"
   ]
  },
  {
   "cell_type": "markdown",
   "id": "ae32a51a-fbe3-40ae-8686-ac962a0d398f",
   "metadata": {},
   "source": [
    "🔹 Applications: Used in hyperparameter tuning, curve fitting, engineering design."
   ]
  },
  {
   "cell_type": "markdown",
   "id": "139ad06b-b27a-4379-a8ee-3d297cb0812b",
   "metadata": {},
   "source": [
    "📌 3. Integration (scipy.integrate)\n",
    "\n",
    "Used for numerical integration of functions.\n",
    "\n",
    "✅ Example: Integrate f(x) = x² from 0 to 2"
   ]
  },
  {
   "cell_type": "code",
   "execution_count": 6,
   "id": "09c0a5e9-67a3-49c4-966d-40af0e36736a",
   "metadata": {},
   "outputs": [
    {
     "name": "stdout",
     "output_type": "stream",
     "text": [
      "Integral Result: 2.6666666666666665\n"
     ]
    }
   ],
   "source": [
    "from scipy.integrate import quad\n",
    "\n",
    "# Define function\n",
    "def f(x):\n",
    "    return x ** 2\n",
    "\n",
    "# Compute definite integral\n",
    "result, error = quad(f, 0, 2)\n",
    "\n",
    "print(\"Integral Result:\", result)\n"
   ]
  },
  {
   "cell_type": "markdown",
   "id": "24bf49d1-02a7-4392-bcf9-0b23073ce0e8",
   "metadata": {},
   "source": [
    "🔹 Applications: Used in calculus, physics simulations, economics."
   ]
  },
  {
   "cell_type": "markdown",
   "id": "b5b0449a-f136-4bbb-b101-4d479e7a0eca",
   "metadata": {},
   "source": [
    "📌 4. Statistics & Probability (scipy.stats)\n",
    "\n",
    "Used for statistical analysis and probability distributions.\n",
    "\n",
    "✅ Example: Normal Distribution & Hypothesis Testing"
   ]
  },
  {
   "cell_type": "code",
   "execution_count": 8,
   "id": "48e055d8-6b23-48ef-a115-47e241ce9aff",
   "metadata": {},
   "outputs": [
    {
     "name": "stdout",
     "output_type": "stream",
     "text": [
      "T-statistic: -1.0103667960476834\n",
      "P-value: 0.3135526957934225\n"
     ]
    }
   ],
   "source": [
    "from scipy.stats import norm, ttest_ind\n",
    "\n",
    "# Generate normal distribution\n",
    "x = np.linspace(-3, 3, 100)\n",
    "pdf = norm.pdf(x, loc=0, scale=1)  # Mean=0, Std=1\n",
    "\n",
    "# Perform t-test on two datasets\n",
    "data1 = np.random.normal(50, 10, 100)\n",
    "data2 = np.random.normal(52, 10, 100)\n",
    "t_stat, p_value = ttest_ind(data1, data2)\n",
    "\n",
    "print(\"T-statistic:\", t_stat)\n",
    "print(\"P-value:\", p_value)\n"
   ]
  },
  {
   "cell_type": "markdown",
   "id": "5d0bec42-5fc7-469e-81bc-0b04b9a4b637",
   "metadata": {},
   "source": [
    "🔹 Applications: Used in machine learning (feature selection), hypothesis testing, finance, healthcare."
   ]
  },
  {
   "cell_type": "markdown",
   "id": "83b6862d-373c-4c09-9714-3de9722d04f9",
   "metadata": {},
   "source": [
    "📌 5. Signal Processing (scipy.signal)\n",
    "\n",
    "Used for filtering, FFT, and convolution.\n",
    "\n",
    "✅ Example: Apply Low-Pass Butterworth Filter"
   ]
  },
  {
   "cell_type": "code",
   "execution_count": 12,
   "id": "603d09a0-c1b4-4534-a8f6-9666ef34d23f",
   "metadata": {},
   "outputs": [
    {
     "name": "stdout",
     "output_type": "stream",
     "text": [
      "[-1.41005056e-01 -9.84951832e-04  1.35607729e-01  2.65577515e-01\n",
      "  3.86423526e-01  4.96582383e-01  5.95507595e-01  6.83477269e-01\n",
      "  7.61155566e-01  8.29111205e-01  8.87493014e-01  9.35960410e-01\n",
      "  9.73883647e-01  1.00069721e+00  1.01619363e+00  1.02064476e+00\n",
      "  1.01479766e+00  9.99810557e-01  9.77126322e-01  9.48277133e-01\n",
      "  9.14677011e-01  8.77481150e-01  8.37539403e-01  7.95407579e-01\n",
      "  7.51351647e-01  7.05295881e-01  6.56707169e-01  6.04459428e-01\n",
      "  5.46795044e-01  4.81505214e-01  4.06302722e-01  3.19242705e-01\n",
      "  2.19112045e-01  1.05765001e-01 -1.96939394e-02 -1.54991430e-01\n",
      " -2.96982915e-01 -4.41989805e-01 -5.86052131e-01 -7.25090737e-01\n",
      " -8.55041355e-01 -9.72050987e-01 -1.07278709e+00 -1.15479800e+00\n",
      " -1.21678088e+00 -1.25862257e+00 -1.28117380e+00 -1.28586225e+00\n",
      " -1.27432338e+00 -1.24815441e+00 -1.20878221e+00 -1.15740363e+00\n",
      " -1.09497842e+00 -1.02227717e+00 -9.39992646e-01 -8.48873901e-01\n",
      " -7.49798930e-01 -6.43774581e-01 -5.31934860e-01 -4.15554303e-01\n",
      " -2.96029306e-01 -1.74821124e-01 -5.33776113e-02  6.69746281e-02\n",
      "  1.85163234e-01  3.00484937e-01  4.12626483e-01  5.21516564e-01\n",
      "  6.27012436e-01  7.28541025e-01  8.24852951e-01  9.13971716e-01\n",
      "  9.93336059e-01  1.06010296e+00  1.11154084e+00  1.14541988e+00\n",
      "  1.16033673e+00  1.15592848e+00  1.13293302e+00  1.09307091e+00\n",
      "  1.03877323e+00  9.72879785e-01  8.98455978e-01  8.18702901e-01\n",
      "  7.36768744e-01  6.55364155e-01  5.76335620e-01  5.00455657e-01\n",
      "  4.27562234e-01  3.57006785e-01  2.88306854e-01  2.21851342e-01\n",
      "  1.59356231e-01  1.03736784e-01  5.83713971e-02  2.61033443e-02\n",
      "  8.38714618e-03  4.80403655e-03  1.29997310e-02  2.90334811e-02]\n"
     ]
    }
   ],
   "source": [
    "from scipy.signal import butter, filtfilt\n",
    "\n",
    "# Design low-pass filter\n",
    "b, a = butter(N=3, Wn=0.1, btype='low', analog=False)\n",
    "\n",
    "# Apply filter to noisy signal\n",
    "signal = np.sin(np.linspace(0, 10, 100)) + np.random.normal(0, 0.5, 100)\n",
    "filtered_signal = filtfilt(b, a, signal)\n",
    "print(filtered_signal)"
   ]
  },
  {
   "cell_type": "markdown",
   "id": "6d3f87f7-181b-4ba1-9417-ca70e99303fe",
   "metadata": {},
   "source": [
    "🔹 Applications: Used in audio processing, medical signals (ECG, EEG), radar."
   ]
  },
  {
   "cell_type": "markdown",
   "id": "f08acbe7-6813-4dfb-be65-81343e7f65ef",
   "metadata": {},
   "source": [
    "📌 6. Interpolation (scipy.interpolate)\n",
    "\n",
    "Used for estimating missing values in datasets.\n",
    "\n",
    "✅ Example: 1D Interpolation"
   ]
  },
  {
   "cell_type": "code",
   "execution_count": 14,
   "id": "4ee23ded-e74e-4975-b48e-d18b50aca243",
   "metadata": {},
   "outputs": [
    {
     "name": "stdout",
     "output_type": "stream",
     "text": [
      "Estimated value: 12.5\n"
     ]
    },
    {
     "data": {
      "image/png": "[encoded data removed]",
      "text/plain": [
       "<Figure size 640x480 with 1 Axes>"
      ]
     },
     "metadata": {},
     "output_type": "display_data"
    }
   ],
   "source": [
    "from scipy.interpolate import interp1d\n",
    "import matplotlib.pyplot as plt\n",
    "\n",
    "# Given data points\n",
    "x = np.array([0, 1, 2, 3, 4])\n",
    "y = np.array([0, 2, 8, 18, 32])\n",
    "\n",
    "# Create interpolation function\n",
    "interp_func = interp1d(x, y, kind='quadratic')\n",
    "\n",
    "# Estimate value at x=2.5\n",
    "print(\"Estimated value:\", interp_func(2.5))\n",
    "\n",
    "# Plot results\n",
    "x_new = np.linspace(0, 4, 100)\n",
    "y_new = interp_func(x_new)\n",
    "plt.plot(x, y, 'o', label='Original')\n",
    "plt.plot(x_new, y_new, label='Interpolated')\n",
    "plt.legend()\n",
    "plt.show()\n"
   ]
  },
  {
   "cell_type": "markdown",
   "id": "9fab8724-f969-4fd9-a70a-9cec0b2caf15",
   "metadata": {},
   "source": [
    "🔹 Applications: Used in machine learning (data augmentation), engineering simulations, geophysics."
   ]
  },
  {
   "cell_type": "markdown",
   "id": "d1837b0a-bdeb-49bb-adf6-33c289a8683d",
   "metadata": {},
   "source": [
    "📌 7. Sparse Matrices (scipy.sparse)\n",
    "\n",
    "Used for memory-efficient matrix storage.\n",
    "\n",
    "✅ Example: Convert Matrix to Sparse Format"
   ]
  },
  {
   "cell_type": "code",
   "execution_count": 16,
   "id": "fc395fc7-f8d6-4685-b9a0-a43e263a001d",
   "metadata": {},
   "outputs": [
    {
     "name": "stdout",
     "output_type": "stream",
     "text": [
      "Sparse Matrix:\n",
      "   (0, 2)\t3\n",
      "  (1, 0)\t4\n",
      "  (2, 2)\t5\n"
     ]
    }
   ],
   "source": [
    "from scipy.sparse import csr_matrix\n",
    "\n",
    "# Create a sparse matrix\n",
    "dense_matrix = np.array([[0, 0, 3], [4, 0, 0], [0, 0, 5]])\n",
    "sparse_matrix = csr_matrix(dense_matrix)\n",
    "\n",
    "print(\"Sparse Matrix:\\n\", sparse_matrix)\n"
   ]
  },
  {
   "cell_type": "markdown",
   "id": "c4ad0c25-4602-40f0-8dbb-116e2d9a604d",
   "metadata": {},
   "source": [
    "🔹 Applications: Used in natural language processing (NLP), graph algorithms, recommendation systems."
   ]
  },
  {
   "cell_type": "markdown",
   "id": "ba633d00-6144-48f4-86b0-f6e778ecbe43",
   "metadata": {},
   "source": [
    "🔹 Why Use SciPy?\n",
    "\n",
    "✅ Performance: Optimized with C, C++, and Fortran under the hood.\n",
    "✅ Extensive Functions: Covers linear algebra, optimization, statistics, signal processing.\n",
    "✅ Scalability: Works with large datasets and sparse matrices.\n",
    "✅ Integration with NumPy & Pandas: Easy to use in data science & ML workflows."
   ]
  },
  {
   "cell_type": "code",
   "execution_count": null,
   "id": "342f2293-d4b6-4dc5-9880-53a9b0f98ee3",
   "metadata": {},
   "outputs": [],
   "source": []
  }
 ],
 "metadata": {
  "kernelspec": {
   "display_name": "Python [conda env:base] *",
   "language": "python",
   "name": "conda-base-py"
  },
  "language_info": {
   "codemirror_mode": {
    "name": "ipython",
    "version": 3
   },
   "file_extension": ".py",
   "mimetype": "text/x-python",
   "name": "python",
   "nbconvert_exporter": "python",
   "pygments_lexer": "ipython3",
   "version": "3.12.7"
  }
 },
 "nbformat": 4,
 "nbformat_minor": 5
}

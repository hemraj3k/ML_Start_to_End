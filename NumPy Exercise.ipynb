{
 "cells": [
  {
   "cell_type": "markdown",
   "id": "14f84c8a-eb24-4de1-adb7-ea3b6e420673",
   "metadata": {},
   "source": [
    "Creating Arrays in NumPy"
   ]
  },
  {
   "cell_type": "markdown",
   "id": "881a944b-107e-42f8-8af9-f8eb0392bb1e",
   "metadata": {},
   "source": [
    "Create a 1D NumPy Array"
   ]
  },
  {
   "cell_type": "code",
   "execution_count": 4,
   "id": "f111af6b-9238-4a7f-90be-ae64c1cfdb6f",
   "metadata": {},
   "outputs": [
    {
     "name": "stdout",
     "output_type": "stream",
     "text": [
      "[1 2 3 4 5]\n"
     ]
    }
   ],
   "source": [
    "import numpy as np\n",
    "arr = np.array([1, 2, 3, 4, 5])\n",
    "print(arr)\n"
   ]
  },
  {
   "cell_type": "markdown",
   "id": "5dbc1071-ffca-4198-9c41-a97d1f3ced20",
   "metadata": {},
   "source": [
    "Create a 2D NumPy Array"
   ]
  },
  {
   "cell_type": "code",
   "execution_count": 6,
   "id": "d860fcc8-932a-4f54-9089-e33b0d615c43",
   "metadata": {},
   "outputs": [
    {
     "name": "stdout",
     "output_type": "stream",
     "text": [
      "[[1 2 3]\n",
      " [4 5 6]]\n"
     ]
    }
   ],
   "source": [
    "arr_2d = np.array([[1, 2, 3], [4, 5, 6]])\n",
    "print(arr_2d)\n"
   ]
  },
  {
   "cell_type": "markdown",
   "id": "2611b5ab-a336-40ed-8f9a-044d222ddb1d",
   "metadata": {},
   "source": [
    "Create an Array with Zeros"
   ]
  },
  {
   "cell_type": "code",
   "execution_count": 8,
   "id": "e46660ee-2de6-4c8b-8b2b-cf28c847b521",
   "metadata": {},
   "outputs": [
    {
     "name": "stdout",
     "output_type": "stream",
     "text": [
      "[[0. 0. 0.]\n",
      " [0. 0. 0.]\n",
      " [0. 0. 0.]]\n"
     ]
    }
   ],
   "source": [
    "zeros = np.zeros((3, 3))  # 3x3 matrix of zeros\n",
    "print(zeros)\n"
   ]
  },
  {
   "cell_type": "markdown",
   "id": "19e84509-67ac-46c8-af2b-60804acf52b2",
   "metadata": {},
   "source": [
    "Create an Array with Ones"
   ]
  },
  {
   "cell_type": "code",
   "execution_count": 10,
   "id": "77d60d36-ec4f-4f94-b3f3-9512223546b5",
   "metadata": {},
   "outputs": [
    {
     "name": "stdout",
     "output_type": "stream",
     "text": [
      "[[1. 1. 1.]\n",
      " [1. 1. 1.]]\n"
     ]
    }
   ],
   "source": [
    "ones = np.ones((2, 3))  # 2x3 matrix of ones\n",
    "print(ones)\n"
   ]
  },
  {
   "cell_type": "markdown",
   "id": "b07f9760-98b5-457f-b3b7-e49661a4aa28",
   "metadata": {},
   "source": [
    " Create an Identity Matrix"
   ]
  },
  {
   "cell_type": "code",
   "execution_count": 12,
   "id": "48d5e770-5799-4c73-a55f-9f894b068f22",
   "metadata": {},
   "outputs": [
    {
     "name": "stdout",
     "output_type": "stream",
     "text": [
      "[[1. 0. 0.]\n",
      " [0. 1. 0.]\n",
      " [0. 0. 1.]]\n"
     ]
    }
   ],
   "source": [
    "identity_matrix = np.eye(3)\n",
    "print(identity_matrix)\n"
   ]
  },
  {
   "cell_type": "markdown",
   "id": "0637f93c-deaf-4d5d-bf6f-dcb120e8dd78",
   "metadata": {},
   "source": [
    "Create an Array with Random Numbers"
   ]
  },
  {
   "cell_type": "code",
   "execution_count": 14,
   "id": "9c8ce4b6-dd18-4b1c-8a20-77f6978605ff",
   "metadata": {},
   "outputs": [
    {
     "name": "stdout",
     "output_type": "stream",
     "text": [
      "[[0.27018937 0.06253115 0.44658084]\n",
      " [0.82412457 0.2201078  0.64127901]\n",
      " [0.0499571  0.47113413 0.37378149]]\n"
     ]
    }
   ],
   "source": [
    "random_array = np.random.rand(3, 3)  # 3x3 matrix with random values\n",
    "print(random_array)\n"
   ]
  },
  {
   "cell_type": "markdown",
   "id": "71f39f52-1c9e-4b86-add0-e430f874fec9",
   "metadata": {},
   "source": [
    "Create an Array with a Range of Numbers"
   ]
  },
  {
   "cell_type": "code",
   "execution_count": 16,
   "id": "e1e1c09d-4fe1-45c2-9ebd-16a929dfc5f5",
   "metadata": {},
   "outputs": [
    {
     "name": "stdout",
     "output_type": "stream",
     "text": [
      "[1 3 5 7 9]\n"
     ]
    }
   ],
   "source": [
    "arr_range = np.arange(1, 11, 2)  # Numbers from 1 to 10 with step size of 2\n",
    "print(arr_range)\n"
   ]
  },
  {
   "cell_type": "markdown",
   "id": "9511672e-7f81-4cd7-8905-edb00cbeb833",
   "metadata": {},
   "source": [
    "# Checking Array Properties"
   ]
  },
  {
   "cell_type": "code",
   "execution_count": 18,
   "id": "c978bbfd-0932-4f2a-8653-a8093724d1e4",
   "metadata": {},
   "outputs": [
    {
     "name": "stdout",
     "output_type": "stream",
     "text": [
      "1\n",
      "(5,)\n",
      "5\n",
      "int64\n"
     ]
    }
   ],
   "source": [
    "print(arr.ndim)   # Number of dimensions\n",
    "print(arr.shape)  # Shape of the array\n",
    "print(arr.size)   # Total number of elements\n",
    "print(arr.dtype)  # Data type of elements\n"
   ]
  },
  {
   "cell_type": "markdown",
   "id": "c34cc8ad-27b0-4370-a975-ef6caeb75b86",
   "metadata": {},
   "source": [
    "#Accessing & Modifying Elements"
   ]
  },
  {
   "cell_type": "markdown",
   "id": "4efd745d-78d9-433a-835e-f47c68907f4d",
   "metadata": {},
   "source": [
    "Indexing (Similar to Lists)"
   ]
  },
  {
   "cell_type": "code",
   "execution_count": 20,
   "id": "36f4b4cd-4be4-49c3-b7fe-5d29366c8b0e",
   "metadata": {},
   "outputs": [
    {
     "name": "stdout",
     "output_type": "stream",
     "text": [
      "20\n"
     ]
    }
   ],
   "source": [
    "arr = np.array([10, 20, 30, 40, 50])\n",
    "print(arr[1])  # Access 2nd element (index 1)\n"
   ]
  },
  {
   "cell_type": "markdown",
   "id": "015c1d1c-8d93-4156-a7e7-321de71b2fd1",
   "metadata": {},
   "source": [
    "Slicing Arrays"
   ]
  },
  {
   "cell_type": "code",
   "execution_count": 22,
   "id": "a5ee4f98-fbef-47b2-99b5-8f8b75e1b2ff",
   "metadata": {},
   "outputs": [
    {
     "name": "stdout",
     "output_type": "stream",
     "text": [
      "[20 30 40]\n"
     ]
    }
   ],
   "source": [
    "print(arr[1:4])  # Elements from index 1 to 3\n"
   ]
  },
  {
   "cell_type": "markdown",
   "id": "599b35a5-4a3e-45a3-9781-ffc6710fc76f",
   "metadata": {},
   "source": [
    "#Mathematical Operations on Arrays"
   ]
  },
  {
   "cell_type": "markdown",
   "id": "5c088f6b-a019-4f70-825e-281b564c4532",
   "metadata": {},
   "source": [
    "Element-wise Arithmetic Operations"
   ]
  },
  {
   "cell_type": "code",
   "execution_count": 24,
   "id": "f2bcff40-3092-4806-8adc-28d50c170048",
   "metadata": {},
   "outputs": [
    {
     "name": "stdout",
     "output_type": "stream",
     "text": [
      "[5 7 9]\n",
      "[-3 -3 -3]\n",
      "[ 4 10 18]\n",
      "[0.25 0.4  0.5 ]\n",
      "[1 4 9]\n"
     ]
    }
   ],
   "source": [
    "a = np.array([1, 2, 3])\n",
    "b = np.array([4, 5, 6])\n",
    "\n",
    "print(a + b)  # [5 7 9]\n",
    "print(a - b)  # [-3 -3 -3]\n",
    "print(a * b)  # [4 10 18]\n",
    "print(a / b)  # [0.25 0.4 0.5]\n",
    "print(a ** 2) # [1 4 9] (Square each element)\n"
   ]
  },
  {
   "cell_type": "markdown",
   "id": "91fb44ae-987a-4bf6-a269-47df09dcb6e8",
   "metadata": {},
   "source": [
    "Aggregate Functions"
   ]
  },
  {
   "cell_type": "code",
   "execution_count": 26,
   "id": "b3cb5744-8c6e-482e-b6db-ea9cdb7c3d60",
   "metadata": {},
   "outputs": [
    {
     "name": "stdout",
     "output_type": "stream",
     "text": [
      "150\n",
      "30.0\n",
      "50\n",
      "10\n",
      "14.142135623730951\n",
      "30.0\n"
     ]
    }
   ],
   "source": [
    "arr = np.array([10, 20, 30, 40, 50])\n",
    "print(np.sum(arr))  # Sum of all elements\n",
    "print(np.mean(arr)) # Mean (average)\n",
    "print(np.max(arr))  # Maximum value\n",
    "print(np.min(arr))  # Minimum value\n",
    "print(np.std(arr))  # Standard deviation\n",
    "print(np.median(arr))  # Median value\n"
   ]
  },
  {
   "cell_type": "markdown",
   "id": "b108d1db-89b5-4a44-a6a9-ef18a83b2bcb",
   "metadata": {},
   "source": [
    "#Reshaping & Manipulating Arrays"
   ]
  },
  {
   "cell_type": "markdown",
   "id": "01f23ee6-7555-44a3-b43b-04d51ffc8abf",
   "metadata": {},
   "source": [
    "Reshaping Arrays"
   ]
  },
  {
   "cell_type": "code",
   "execution_count": 28,
   "id": "5682e6af-5fb8-4009-b7eb-b2a46755650a",
   "metadata": {},
   "outputs": [
    {
     "name": "stdout",
     "output_type": "stream",
     "text": [
      "[[1 2 3]\n",
      " [4 5 6]]\n"
     ]
    }
   ],
   "source": [
    "arr = np.array([1, 2, 3, 4, 5, 6])\n",
    "reshaped_arr = arr.reshape(2, 3)  # Convert to 2x3 matrix\n",
    "print(reshaped_arr)\n"
   ]
  },
  {
   "cell_type": "markdown",
   "id": "cb48fee3-3305-42a9-8b6b-ea20aec36a94",
   "metadata": {},
   "source": [
    "Flatten a 2D Array to 1D"
   ]
  },
  {
   "cell_type": "code",
   "execution_count": 30,
   "id": "ea0b4438-5129-457b-a9b0-45948c6a7fe7",
   "metadata": {},
   "outputs": [
    {
     "name": "stdout",
     "output_type": "stream",
     "text": [
      "[1 2 3 4 5 6]\n"
     ]
    }
   ],
   "source": [
    "flattened = reshaped_arr.flatten()\n",
    "print(flattened)\n"
   ]
  },
  {
   "cell_type": "markdown",
   "id": "52222433-4423-4e22-adff-04d374fe54cb",
   "metadata": {},
   "source": [
    "# Matrix Operations with NumPy"
   ]
  },
  {
   "cell_type": "markdown",
   "id": "5526239a-c3a8-4d96-8e3b-b7ffa6c17013",
   "metadata": {},
   "source": [
    "Matrix Multiplication"
   ]
  },
  {
   "cell_type": "code",
   "execution_count": 32,
   "id": "025ac4fc-a834-4638-bc92-5f45c4e3a605",
   "metadata": {},
   "outputs": [
    {
     "name": "stdout",
     "output_type": "stream",
     "text": [
      "[[19 22]\n",
      " [43 50]]\n"
     ]
    }
   ],
   "source": [
    "A = np.array([[1, 2], [3, 4]])\n",
    "B = np.array([[5, 6], [7, 8]])\n",
    "\n",
    "result = np.dot(A, B)  # Matrix multiplication\n",
    "print(result)\n"
   ]
  },
  {
   "cell_type": "markdown",
   "id": "31db716f-bdb6-464f-8e6a-ee00694472a1",
   "metadata": {},
   "source": [
    "Transpose of a Matrix"
   ]
  },
  {
   "cell_type": "code",
   "execution_count": 34,
   "id": "2cf5aa0c-a35f-4799-9604-6568b9cfc2e0",
   "metadata": {},
   "outputs": [
    {
     "name": "stdout",
     "output_type": "stream",
     "text": [
      "[[1 3]\n",
      " [2 4]]\n"
     ]
    }
   ],
   "source": [
    "print(A.T)  # Transpose of A\n"
   ]
  },
  {
   "cell_type": "markdown",
   "id": "d996a8af-9fad-497a-8ddf-f18e23b5c15a",
   "metadata": {},
   "source": [
    "# Broadcasting in NumPy"
   ]
  },
  {
   "cell_type": "markdown",
   "id": "7ed6f4c4-ad38-4840-8504-e810b84ed294",
   "metadata": {},
   "source": [
    "NumPy allows operations between arrays of different shapes through broadcasting."
   ]
  },
  {
   "cell_type": "code",
   "execution_count": 36,
   "id": "914a42c3-4aba-4a98-8395-b5f27bb45b3d",
   "metadata": {},
   "outputs": [
    {
     "name": "stdout",
     "output_type": "stream",
     "text": [
      "[11 12 13]\n"
     ]
    }
   ],
   "source": [
    "arr = np.array([1, 2, 3])\n",
    "print(arr + 10)  # Adds 10 to each element\n"
   ]
  },
  {
   "cell_type": "markdown",
   "id": "ae86663f-ccc6-4082-b734-f2f89c96f144",
   "metadata": {},
   "source": [
    "# Handling Missing Values"
   ]
  },
  {
   "cell_type": "code",
   "execution_count": 38,
   "id": "bd7bfc38-6e52-4e38-a284-c628a7bd4b8a",
   "metadata": {},
   "outputs": [
    {
     "name": "stdout",
     "output_type": "stream",
     "text": [
      "[False False  True False False]\n",
      "3.0\n"
     ]
    }
   ],
   "source": [
    "arr = np.array([1, 2, np.nan, 4, 5])\n",
    "print(np.isnan(arr))  # Check for NaN values\n",
    "print(np.nanmean(arr))  # Ignore NaN and compute mean\n"
   ]
  },
  {
   "cell_type": "markdown",
   "id": "9b4d8692-e273-44a2-9ff5-9fd504250f49",
   "metadata": {},
   "source": [
    "# NumPy vs Python Lists (Speed Comparison)"
   ]
  },
  {
   "cell_type": "code",
   "execution_count": 40,
   "id": "1fcb6054-ce58-464a-994e-1b1fd75dd60c",
   "metadata": {},
   "outputs": [
    {
     "name": "stdout",
     "output_type": "stream",
     "text": [
      "Python List Time: 0.047128915786743164\n",
      "NumPy Array Time: 0.010000944137573242\n"
     ]
    }
   ],
   "source": [
    "import time\n",
    "\n",
    "size = 1000000\n",
    "list1 = list(range(size))\n",
    "list2 = list(range(size))\n",
    "\n",
    "start = time.time()\n",
    "result = [x + y for x, y in zip(list1, list2)]\n",
    "print(\"Python List Time:\", time.time() - start)\n",
    "\n",
    "arr1 = np.array(list1)\n",
    "arr2 = np.array(list2)\n",
    "\n",
    "start = time.time()\n",
    "result = arr1 + arr2\n",
    "print(\"NumPy Array Time:\", time.time() - start)\n"
   ]
  },
  {
   "cell_type": "code",
   "execution_count": 44,
   "id": "3a6c41eb-2847-4781-a891-69548e4fff86",
   "metadata": {},
   "outputs": [
    {
     "name": "stdout",
     "output_type": "stream",
     "text": [
      "   Pregnancies  Glucose  BloodPressure  SkinThickness  Insulin   BMI  \\\n",
      "0            6      148             72             35        0  33.6   \n",
      "1            1       85             66             29        0  26.6   \n",
      "2            8      183             64              0        0  23.3   \n",
      "3            1       89             66             23       94  28.1   \n",
      "4            0      137             40             35      168  43.1   \n",
      "\n",
      "   DiabetesPedigreeFunction  Age  Outcome  \n",
      "0                     0.627   50        1  \n",
      "1                     0.351   31        0  \n",
      "2                     0.672   32        1  \n",
      "3                     0.167   21        0  \n",
      "4                     2.288   33        1  \n"
     ]
    }
   ],
   "source": [
    "import pandas as pd  # Import pandas for data manipulation\n",
    "import os  # Import os for file path operations\n",
    "\n",
    "# Function to get the full path of a file\n",
    "def getFilePath(filename):\n",
    "    currentDir = os.getcwd()  # Get the current working directory\n",
    "    fullPath = os.path.join(currentDir, filename)  # Construct the full file path\n",
    "    return fullPath\n",
    "\n",
    "# Read the CSV file\n",
    "df = pd.read_csv(getFilePath('Test_data.csv'))\n",
    "\n",
    "# Print the first 5 rows of the dataset\n",
    "print(df.head())\n"
   ]
  },
  {
   "cell_type": "code",
   "execution_count": 46,
   "id": "6b1ccf2a-333e-44ef-b413-c380215ec223",
   "metadata": {},
   "outputs": [
    {
     "data": {
      "text/plain": [
       "'/Users/hemraj1980/Documents'"
      ]
     },
     "execution_count": 46,
     "metadata": {},
     "output_type": "execute_result"
    }
   ],
   "source": [
    "pwd"
   ]
  },
  {
   "cell_type": "markdown",
   "id": "9c4ae5b1-8d2b-4240-8a88-691d79993fe4",
   "metadata": {},
   "source": [
    "Create a Matrix of Zeros"
   ]
  },
  {
   "cell_type": "code",
   "execution_count": 50,
   "id": "c5367265-e79c-43d2-89c5-39de178be7a5",
   "metadata": {},
   "outputs": [
    {
     "name": "stdout",
     "output_type": "stream",
     "text": [
      "[[0. 0. 0.]\n",
      " [0. 0. 0.]\n",
      " [0. 0. 0.]]\n"
     ]
    }
   ],
   "source": [
    "import numpy as np\n",
    "zeros_matrix = np.zeros((3, 3))\n",
    "print(zeros_matrix)"
   ]
  },
  {
   "cell_type": "markdown",
   "id": "eb40b043-6ea7-43ab-a0f7-0af88ff3da19",
   "metadata": {},
   "source": [
    "Create a Matrix of Ones"
   ]
  },
  {
   "cell_type": "code",
   "execution_count": 58,
   "id": "cbdd1c16-c9ca-4307-b7d3-2ba695507c27",
   "metadata": {},
   "outputs": [
    {
     "name": "stdout",
     "output_type": "stream",
     "text": [
      "[[1. 1. 1.]\n",
      " [1. 1. 1.]\n",
      " [1. 1. 1.]]\n"
     ]
    }
   ],
   "source": [
    "ones_matrix = np.ones((3, 3))\n",
    "print(ones_matrix)"
   ]
  },
  {
   "cell_type": "markdown",
   "id": "98f1fc2f-52ea-42db-bba2-f4cffdb03a43",
   "metadata": {},
   "source": [
    "This line of code initializes a 3×3 matrix filled with elements having a value of 1 using NumPy’s np.ones() function."
   ]
  },
  {
   "cell_type": "markdown",
   "id": "d12b824c-7a38-404a-be90-6774b7101268",
   "metadata": {},
   "source": [
    "Identity Matrix"
   ]
  },
  {
   "cell_type": "code",
   "execution_count": 54,
   "id": "e76574a1-0149-4c19-9ce2-c8e8556eeda4",
   "metadata": {},
   "outputs": [
    {
     "name": "stdout",
     "output_type": "stream",
     "text": [
      "[[1. 0. 0.]\n",
      " [0. 1. 0.]\n",
      " [0. 0. 1.]]\n"
     ]
    }
   ],
   "source": [
    "identity_matrix = np.eye(3)\n",
    "print(identity_matrix)"
   ]
  },
  {
   "cell_type": "markdown",
   "id": "bdc87511-d5fc-4b50-ad8c-b2244fa4c3b6",
   "metadata": {},
   "source": [
    "An Identity matrix is a square matrix that has 1s along its main diagonal and 0s everywhere else. Below is an Identity matrix of shape 3 x 3."
   ]
  },
  {
   "cell_type": "markdown",
   "id": "e9d74282-8062-4be4-b89c-3120c3b170b0",
   "metadata": {},
   "source": [
    "However, NumPy gives you the flexibility to change the diagonal along which the values have to be 1s. You can either move it above the main diagonal:"
   ]
  },
  {
   "cell_type": "code",
   "execution_count": 60,
   "id": "f4a0cc05-c88e-4580-a982-8f8174722795",
   "metadata": {},
   "outputs": [
    {
     "name": "stdout",
     "output_type": "stream",
     "text": [
      "[[0. 1. 0.]\n",
      " [0. 0. 1.]\n",
      " [0. 0. 0.]]\n"
     ]
    }
   ],
   "source": [
    "# not an identity matrix\n",
    "non_identity_matrix = np.eye(3,k=1)\n",
    "print(non_identity_matrix)"
   ]
  },
  {
   "cell_type": "code",
   "execution_count": 62,
   "id": "ccef5a55-b181-4ee3-816a-7f15f4bac125",
   "metadata": {},
   "outputs": [
    {
     "name": "stdout",
     "output_type": "stream",
     "text": [
      "[[0. 0. 0.]\n",
      " [0. 0. 0.]\n",
      " [1. 0. 0.]]\n"
     ]
    }
   ],
   "source": [
    "non_identity_matrix_1 = np.eye(3,k=-2)\n",
    "print(non_identity_matrix_1)"
   ]
  },
  {
   "cell_type": "markdown",
   "id": "09fc0b78-1c2a-4783-99b5-fffc868f50a9",
   "metadata": {},
   "source": [
    "Note: A matrix is called the Identity matrix only when the 1s are along the main diagonal and not any other diagonal!"
   ]
  },
  {
   "cell_type": "markdown",
   "id": "6491f46c-2718-40b1-a9dc-d8dc0f27d894",
   "metadata": {},
   "source": [
    "Evenly spaced ndarray"
   ]
  },
  {
   "cell_type": "code",
   "execution_count": 64,
   "id": "d6c26fbe-2452-444f-b250-b585c5ef5e75",
   "metadata": {},
   "outputs": [
    {
     "name": "stdout",
     "output_type": "stream",
     "text": [
      "[0 1 2 3 4]\n"
     ]
    }
   ],
   "source": [
    "arr1 = np.arange(5)\n",
    "print(arr1)"
   ]
  },
  {
   "cell_type": "code",
   "execution_count": 66,
   "id": "d38424b7-8b02-497a-8dac-50ca62b10908",
   "metadata": {},
   "outputs": [
    {
     "name": "stdout",
     "output_type": "stream",
     "text": [
      "[2 4 6 8]\n"
     ]
    }
   ],
   "source": [
    "arr2 = np.arange(2,10,2)\n",
    "print(arr2)"
   ]
  },
  {
   "cell_type": "markdown",
   "id": "2355559c-03ee-4a0f-baa2-86ff4c7c49d1",
   "metadata": {},
   "source": [
    "A point to be noted here is that the interval is defined as [start,end) where the last number will not be included in the array:"
   ]
  },
  {
   "cell_type": "markdown",
   "id": "62b7ac21-7a9f-4455-8560-0e521c6d925f",
   "metadata": {},
   "source": [
    "Another similar function is np.linspace(), but instead of step size, it takes in the number of samples that need to be retrieved from the interval. A point to note here is that the last number is included in the values returned unlike in the case of np.arange()."
   ]
  },
  {
   "cell_type": "code",
   "execution_count": 68,
   "id": "ff12201a-2257-4262-8437-08370a64240c",
   "metadata": {},
   "outputs": [
    {
     "name": "stdout",
     "output_type": "stream",
     "text": [
      "[0.   0.25 0.5  0.75 1.  ]\n"
     ]
    }
   ],
   "source": [
    "arr3 = np.linspace(0,1,5)\n",
    "print(arr3)"
   ]
  },
  {
   "cell_type": "markdown",
   "id": "53f86d25-2125-47f9-8eda-e2dafb312ec3",
   "metadata": {},
   "source": [
    "The Shape and Reshaping of NumPy Arrays"
   ]
  },
  {
   "cell_type": "markdown",
   "id": "11e4f016-a35e-4f9a-8042-1652f273a235",
   "metadata": {},
   "source": [
    "Dimensions of NumPy arrays\n",
    "You can easily determine the number of dimensions or axes of a NumPy array using the ndims attribute:"
   ]
  },
  {
   "cell_type": "code",
   "execution_count": 70,
   "id": "7acc8840-4493-48a9-a1ca-844b67f49d44",
   "metadata": {},
   "outputs": [
    {
     "name": "stdout",
     "output_type": "stream",
     "text": [
      "Array : \n",
      " [[ 5 10 15]\n",
      " [20 25 20]]\n",
      "Dimensions : \n",
      " 2\n"
     ]
    }
   ],
   "source": [
    "# number of axis\n",
    "a = np.array([[5,10,15],[20,25,20]])\n",
    "print('Array :','\\n',a)\n",
    "print('Dimensions :','\\n',a.ndim)"
   ]
  },
  {
   "cell_type": "markdown",
   "id": "0c169157-a500-4dd4-a45e-59f5de8c3d97",
   "metadata": {},
   "source": [
    "This array has two dimensions: 2 rows and 3 columns."
   ]
  },
  {
   "cell_type": "markdown",
   "id": "2148ca18-3c66-411c-b227-fbfadd995970",
   "metadata": {},
   "source": [
    "Shape of NumPy array\n",
    "\n",
    "The shape is an attribute of the NumPy array that shows how many rows of elements are there along each dimension. You can further index the shape so returned by the ndarray to get value along each dimension:"
   ]
  },
  {
   "cell_type": "code",
   "execution_count": 72,
   "id": "ec2135e0-276f-49db-81a2-da5a0e40356d",
   "metadata": {},
   "outputs": [
    {
     "name": "stdout",
     "output_type": "stream",
     "text": [
      "Array : \n",
      " [[1 2 3]\n",
      " [4 5 6]]\n",
      "Shape : \n",
      " (2, 3)\n",
      "Rows =  2\n",
      "Columns =  3\n"
     ]
    }
   ],
   "source": [
    "a = np.array([[1,2,3],[4,5,6]])\n",
    "print('Array :','\\n',a)\n",
    "print('Shape :','\\n',a.shape)\n",
    "print('Rows = ',a.shape[0])\n",
    "print('Columns = ',a.shape[1])"
   ]
  },
  {
   "cell_type": "markdown",
   "id": "5cdfbac6-8e4e-49fb-ba51-0d3531d6e703",
   "metadata": {},
   "source": [
    "Size of NumPy array\n",
    "\n",
    "You can determine how many values there are in the array using the size attribute. It just multiplies the number of rows by the number of columns in the ndarray:"
   ]
  },
  {
   "cell_type": "code",
   "execution_count": 76,
   "id": "14667367-5a5a-49ad-914e-fbace4289864",
   "metadata": {},
   "outputs": [
    {
     "name": "stdout",
     "output_type": "stream",
     "text": [
      "Array : \n",
      " [[ 5 10 15]\n",
      " [20 25 20]]\n",
      "Size of array : 6\n",
      "Manual determination of size of array : 6\n"
     ]
    }
   ],
   "source": [
    "# size of array\n",
    "a = np.array([[5,10,15],[20,25,20]])\n",
    "print('Array :','\\n',a)\n",
    "print('Size of array :',a.size)\n",
    "print('Manual determination of size of array :',a.shape[0]*a.shape[1])"
   ]
  },
  {
   "cell_type": "markdown",
   "id": "916798f2-a948-4f4c-b847-daa9c7cda10c",
   "metadata": {},
   "source": [
    "Shape = 3 *2\n",
    "Size = 6\n",
    "N-dimenssion = 2"
   ]
  },
  {
   "cell_type": "markdown",
   "id": "f72a726a-33c0-42e4-8f14-16b0cfe93a59",
   "metadata": {},
   "source": [
    "Reshaping a NumPy array\n",
    "\n",
    "Reshaping a ndarray can be done using the np.reshape() method. It changes the shape of the ndarray without changing the data within the ndarray:"
   ]
  },
  {
   "cell_type": "code",
   "execution_count": 80,
   "id": "38f66283-7730-4f31-a9e5-6149dc73b409",
   "metadata": {},
   "outputs": [
    {
     "name": "stdout",
     "output_type": "stream",
     "text": [
      "Array : \n",
      " [ 3  6  9 12]\n",
      "Array : \n",
      " [[ 3  6]\n",
      " [ 9 12]]\n"
     ]
    }
   ],
   "source": [
    "# reshape\n",
    "a = np.array([3,6,9,12])\n",
    "b = np.reshape(a,(2,2))\n",
    "print('Array :','\\n',a)\n",
    "print('Array :','\\n',b)"
   ]
  },
  {
   "cell_type": "markdown",
   "id": "e74cead0-e2d9-46db-bf2d-8bd659ee53bd",
   "metadata": {},
   "source": [
    "Here, I reshaped the ndarray from a 1-D to a 2-D ndarray.\n",
    "\n",
    "While reshaping, if you are unsure about the shape of any of the axis, just input -1. NumPy automatically calculates the shape when it sees a -1:"
   ]
  },
  {
   "cell_type": "code",
   "execution_count": 82,
   "id": "91af37e3-bf90-46d8-b90c-1ae810f0bf93",
   "metadata": {},
   "outputs": [
    {
     "name": "stdout",
     "output_type": "stream",
     "text": [
      "Three rows : \n",
      " [[ 3  6]\n",
      " [ 9 12]\n",
      " [18 24]]\n",
      "Three columns : \n",
      " [[ 3  6  9]\n",
      " [12 18 24]]\n"
     ]
    }
   ],
   "source": [
    "a = np.array([3,6,9,12,18,24])\n",
    "print('Three rows :','\\n',np.reshape(a,(3,-1)))\n",
    "print('Three columns :','\\n',np.reshape(a,(-1,3)))"
   ]
  },
  {
   "cell_type": "markdown",
   "id": "dc15c1ed-5603-4eb4-ac95-c4e97c9606c0",
   "metadata": {},
   "source": [
    "Flattening a NumPy array\n",
    "\n",
    "Sometimes when you have a multidimensional array and want to collapse it to a single-dimensional array, you can either use the flatten() method or the ravel() method:"
   ]
  },
  {
   "cell_type": "code",
   "execution_count": 84,
   "id": "b9f0c2e1-75c5-45bb-8a4f-41d4ba4e90dc",
   "metadata": {},
   "outputs": [
    {
     "name": "stdout",
     "output_type": "stream",
     "text": [
      "Original shape : (2, 2)\n",
      "Array : \n",
      " [[1. 1.]\n",
      " [1. 1.]]\n",
      "Shape after flatten : (4,)\n",
      "Array : \n",
      " [1. 1. 1. 1.]\n",
      "Shape after ravel : (4,)\n",
      "Array : \n",
      " [1. 1. 1. 1.]\n"
     ]
    }
   ],
   "source": [
    "a = np.ones((2,2))\n",
    "b = a.flatten()\n",
    "c = a.ravel()\n",
    "print('Original shape :', a.shape)\n",
    "print('Array :','\\n', a)\n",
    "print('Shape after flatten :',b.shape)\n",
    "print('Array :','\\n', b)\n",
    "print('Shape after ravel :',c.shape)\n",
    "print('Array :','\\n', c)"
   ]
  },
  {
   "cell_type": "markdown",
   "id": "fd089dfb-0f41-4bcc-a2b9-bf8d49f5907c",
   "metadata": {},
   "source": [
    "But an important difference between flatten() and ravel() is that the former returns a copy of the original array while the latter returns a reference to the original array. This means any changes made to the array returned from ravel() will also be reflected in the original array while this will not be the case with flatten()."
   ]
  },
  {
   "cell_type": "code",
   "execution_count": 86,
   "id": "8ce4e246-b42e-4751-a76b-7636a8753e28",
   "metadata": {},
   "outputs": [
    {
     "name": "stdout",
     "output_type": "stream",
     "text": [
      "[[1. 1.]\n",
      " [1. 1.]]\n"
     ]
    }
   ],
   "source": [
    "b[0] = 0\n",
    "print(a)"
   ]
  },
  {
   "cell_type": "markdown",
   "id": "3d20f0b6-3a01-4018-9957-fb64d2ebdf73",
   "metadata": {},
   "source": [
    "Transpose of a NumPy array\n",
    "\n",
    "Another very interesting reshaping method of NumPy is the transpose() method. It takes the input array and swaps the rows with the column values, and the column values with the values of the rows:"
   ]
  },
  {
   "cell_type": "code",
   "execution_count": 88,
   "id": "605bb30b-e46e-4be7-a550-38efae6806b0",
   "metadata": {},
   "outputs": [
    {
     "name": "stdout",
     "output_type": "stream",
     "text": [
      "Original \n",
      " Shape (2, 3) \n",
      " [[1 2 3]\n",
      " [4 5 6]]\n",
      "Expand along columns: \n",
      " Shape (3, 2) \n",
      " [[1 4]\n",
      " [2 5]\n",
      " [3 6]]\n"
     ]
    }
   ],
   "source": [
    "a = np.array([[1,2,3],\n",
    "[4,5,6]])\n",
    "b = np.transpose(a)\n",
    "print('Original','\\n','Shape',a.shape,'\\n',a)\n",
    "print('Expand along columns:','\\n','Shape',b.shape,'\\n',b)"
   ]
  },
  {
   "cell_type": "markdown",
   "id": "b3f4511e-66ea-4d14-9ab7-8ce64e97f785",
   "metadata": {},
   "source": [
    "Expanding and Squeezing a NumPy array"
   ]
  },
  {
   "cell_type": "markdown",
   "id": "c1632ce1-3940-4e13-b564-672990b4bdd4",
   "metadata": {},
   "source": [
    "Expanding a NumPy array\n",
    "You can add a new axis to an array using the expand_dims() method by providing the array and the axis along which to expand:"
   ]
  },
  {
   "cell_type": "code",
   "execution_count": 90,
   "id": "e546be75-4f31-4a30-b1a1-1fec22e29e16",
   "metadata": {},
   "outputs": [
    {
     "name": "stdout",
     "output_type": "stream",
     "text": [
      "Original: \n",
      " Shape (3,) \n",
      " [1 2 3]\n",
      "Expand along columns: \n",
      " Shape (1, 3) \n",
      " [[1 2 3]]\n",
      "Expand along rows: \n",
      " Shape (3, 1) \n",
      " [[1]\n",
      " [2]\n",
      " [3]]\n"
     ]
    }
   ],
   "source": [
    "# expand dimensions\n",
    "a = np.array([1,2,3])\n",
    "b = np.expand_dims(a,axis=0)\n",
    "c = np.expand_dims(a,axis=1)\n",
    "print('Original:','\\n','Shape',a.shape,'\\n',a)\n",
    "print('Expand along columns:','\\n','Shape',b.shape,'\\n',b)\n",
    "print('Expand along rows:','\\n','Shape',c.shape,'\\n',c)"
   ]
  },
  {
   "cell_type": "markdown",
   "id": "1bf844a0-ac54-4792-b44c-2b95fd525542",
   "metadata": {},
   "source": [
    "Squeezing a NumPy array\n",
    "\n",
    "On the other hand, if you instead want to reduce the axis of the array, use the squeeze() method. It removes the axis that has a single entry. This means if you have created a 2 x 2 x 1 matrix, squeeze() will remove the third dimension from the matrix:"
   ]
  },
  {
   "cell_type": "code",
   "execution_count": 92,
   "id": "83fcc196-2c2d-44f0-b3d7-6644cfe163cf",
   "metadata": {},
   "outputs": [
    {
     "name": "stdout",
     "output_type": "stream",
     "text": [
      "Original \n",
      " Shape (1, 2, 3) \n",
      " [[[1 2 3]\n",
      "  [4 5 6]]]\n",
      "Squeeze array: \n",
      " Shape (2, 3) \n",
      " [[1 2 3]\n",
      " [4 5 6]]\n"
     ]
    }
   ],
   "source": [
    "# squeeze\n",
    "a = np.array([[[1,2,3],\n",
    "[4,5,6]]])\n",
    "b = np.squeeze(a, axis=0)\n",
    "print('Original','\\n','Shape',a.shape,'\\n',a)\n",
    "print('Squeeze array:','\\n','Shape',b.shape,'\\n',b)"
   ]
  },
  {
   "cell_type": "markdown",
   "id": "c350df61-841b-4f84-9715-78eec69ec1a4",
   "metadata": {},
   "source": [
    "Indexing and Slicing of NumPy array"
   ]
  },
  {
   "cell_type": "markdown",
   "id": "c6d85ab1-c8a9-496e-9ad0-bc69eecd1c4a",
   "metadata": {},
   "source": [
    "Slicing means retrieving elements from one index to another index. All we have to do is to pass the starting and ending point in the index like this: [start: end]."
   ]
  },
  {
   "cell_type": "code",
   "execution_count": 94,
   "id": "3480103f-1b34-45a5-b619-acbebf2e1363",
   "metadata": {},
   "outputs": [
    {
     "name": "stdout",
     "output_type": "stream",
     "text": [
      "[2 4]\n"
     ]
    }
   ],
   "source": [
    "a = np.array([1,2,3,4,5,6])\n",
    "print(a[1:5:2])"
   ]
  },
  {
   "cell_type": "markdown",
   "id": "432e9286-8e70-4d03-a216-fd6131f7db57",
   "metadata": {},
   "source": [
    "Notice that the last element did not get considered. This is because slicing includes the start index but excludes the end index.\n",
    "\n",
    "A way around this is to write the next higher index to the final index value you want to retrieve:"
   ]
  },
  {
   "cell_type": "code",
   "execution_count": 96,
   "id": "c4b8092c-9aa5-4bb3-b3d8-7c2d99866551",
   "metadata": {},
   "outputs": [
    {
     "name": "stdout",
     "output_type": "stream",
     "text": [
      "[2 4 6]\n"
     ]
    }
   ],
   "source": [
    "a = np.array([1,2,3,4,5,6])\n",
    "print(a[1:6:2])"
   ]
  },
  {
   "cell_type": "markdown",
   "id": "1b6d3d01-a1f4-4241-b4f4-9a623b6fdbbc",
   "metadata": {},
   "source": [
    "If you don’t specify the start or end index, it is taken as 0 or array size, respectively, as default. And the step-size by default is 1."
   ]
  },
  {
   "cell_type": "code",
   "execution_count": 98,
   "id": "9c76741d-c125-4aaf-8465-bb3871abd9fc",
   "metadata": {},
   "outputs": [
    {
     "name": "stdout",
     "output_type": "stream",
     "text": [
      "[1 3 5]\n",
      "[2 4 6]\n",
      "[2 3 4 5 6]\n"
     ]
    }
   ],
   "source": [
    "a = np.array([1,2,3,4,5,6])\n",
    "print(a[:6:2])\n",
    "print(a[1::2])\n",
    "print(a[1:6:])"
   ]
  },
  {
   "cell_type": "markdown",
   "id": "bd104144-7308-4ef4-960b-02cdf0aa3816",
   "metadata": {},
   "source": [
    "Slicing 2-D NumPy arrays\n",
    "\n",
    "Now, a 2-D array has rows and columns so it can get a little tricky to slice 2-D arrays. But once you understand it, you can slice any dimension array!\n",
    "\n",
    "Before learning how to slice a 2-D array, let’s have a look at how to retrieve an element from a 2-D array:"
   ]
  },
  {
   "cell_type": "code",
   "execution_count": 100,
   "id": "2149f4c9-e96e-4a60-9cfc-dfbfd7ccc76e",
   "metadata": {},
   "outputs": [
    {
     "name": "stdout",
     "output_type": "stream",
     "text": [
      "1\n",
      "6\n",
      "4\n"
     ]
    }
   ],
   "source": [
    "a = np.array([[1,2,3],\n",
    "[4,5,6]])\n",
    "print(a[0,0])\n",
    "print(a[1,2])\n",
    "print(a[1,0])"
   ]
  },
  {
   "cell_type": "markdown",
   "id": "f7f5812d-f203-4038-944d-c3bb44cc329b",
   "metadata": {},
   "source": [
    "Here, we provided the row value and column value to identify the element we wanted to extract. While in a 1-D array, we were only providing the column value since there was only 1 row.\n",
    "\n",
    "So, to slice a 2-D array, you need to mention the slices for both, the row and the column:"
   ]
  },
  {
   "cell_type": "code",
   "execution_count": 102,
   "id": "d1e8b30d-1d7e-4422-808b-16a9b6fe4651",
   "metadata": {},
   "outputs": [
    {
     "name": "stdout",
     "output_type": "stream",
     "text": [
      "First row values : \n",
      " [[1 2 3]]\n",
      "Alternate values from first row: \n",
      " [[1 3]]\n",
      "Second column values : \n",
      " [[2]\n",
      " [5]]\n",
      "Arbitrary values : \n",
      " [[2 3]]\n"
     ]
    }
   ],
   "source": [
    "a = np.array([[1,2,3],[4,5,6]])\n",
    "# print first row values\n",
    "print('First row values :','\\n',a[0:1,:])\n",
    "# with step-size for columns\n",
    "print('Alternate values from first row:','\\n',a[0:1,::2])\n",
    "# \n",
    "print('Second column values :','\\n',a[:,1::2])\n",
    "print('Arbitrary values :','\\n',a[0:1,1:3])"
   ]
  },
  {
   "cell_type": "markdown",
   "id": "49992233-da30-4b4a-a58a-83db9eac5ac8",
   "metadata": {},
   "source": [
    "Slicing 3-D NumPy arrays\n",
    "\n",
    "So far we haven’t seen a 3-D array. Let’s first visualize how a 3-D array looks like:"
   ]
  },
  {
   "cell_type": "code",
   "execution_count": 104,
   "id": "30f1221b-ea62-42ab-8438-ed0d33b102f6",
   "metadata": {},
   "outputs": [
    {
     "name": "stdout",
     "output_type": "stream",
     "text": [
      "[[[ 1  2]\n",
      "  [ 3  4]\n",
      "  [ 5  6]]\n",
      "\n",
      " [[ 7  8]\n",
      "  [ 9 10]\n",
      "  [11 12]]\n",
      "\n",
      " [[13 14]\n",
      "  [15 16]\n",
      "  [17 18]]]\n"
     ]
    }
   ],
   "source": [
    "a = np.array([[[1,2],[3,4],[5,6]],# first axis array\n",
    "[[7,8],[9,10],[11,12]],# second axis array\n",
    "[[13,14],[15,16],[17,18]]])# third axis array\n",
    "# 3-D array\n",
    "print(a)"
   ]
  },
  {
   "cell_type": "markdown",
   "id": "cfe112ff-434f-4ba4-9fa1-9ff6e45171da",
   "metadata": {},
   "source": [
    "n addition to the rows and columns, as in a 2-D array, a 3-D array also has a depth axis where it stacks one 2-D array behind the other. So, when you are slicing a 3-D array, you also need to mention which 2-D array you are slicing. This usually comes as the first value in the index:"
   ]
  },
  {
   "cell_type": "code",
   "execution_count": 106,
   "id": "02abcacd-bd89-4300-b1a9-8b2076bf39a0",
   "metadata": {},
   "outputs": [
    {
     "name": "stdout",
     "output_type": "stream",
     "text": [
      "First array, first row, first column value : \n",
      " 1\n",
      "First array last column : \n",
      " [2 4 6]\n",
      "First two rows for second and third arrays : \n",
      " [[[ 7  8]\n",
      "  [ 9 10]]\n",
      "\n",
      " [[13 14]\n",
      "  [15 16]]]\n"
     ]
    }
   ],
   "source": [
    "# value\n",
    "print('First array, first row, first column value :','\\n',a[0,0,0])\n",
    "print('First array last column :','\\n',a[0,:,1])\n",
    "print('First two rows for second and third arrays :','\\n',a[1:,0:2,0:2])"
   ]
  },
  {
   "cell_type": "markdown",
   "id": "5cbfaf42-dbc3-4274-80e8-4f9385b529da",
   "metadata": {},
   "source": [
    "If in case you wanted the values as a single dimension array, you can always use the flatten() method to do the job!"
   ]
  },
  {
   "cell_type": "code",
   "execution_count": 108,
   "id": "370a78f9-c170-4773-a5ac-63867d500e84",
   "metadata": {},
   "outputs": [
    {
     "name": "stdout",
     "output_type": "stream",
     "text": [
      "Printing as a single array : \n",
      " [ 7  8  9 10 13 14 15 16]\n"
     ]
    }
   ],
   "source": [
    "print('Printing as a single array :','\\n',a[1:,0:2,0:2].flatten())"
   ]
  },
  {
   "cell_type": "markdown",
   "id": "d979c949-8268-40a0-9d27-250f42732a39",
   "metadata": {},
   "source": [
    "Negative slicing of NumPy arrays\n",
    "\n",
    "An interesting way to slice your array is to use negative slicing. Negative slicing prints elements from the end rather than the beginning. Have a look below:"
   ]
  },
  {
   "cell_type": "code",
   "execution_count": 110,
   "id": "5e55d9e0-f6dd-4f57-b164-d2291ded4b38",
   "metadata": {},
   "outputs": [
    {
     "name": "stdout",
     "output_type": "stream",
     "text": [
      "[ 5 10]\n"
     ]
    }
   ],
   "source": [
    "a = np.array([[1,2,3,4,5],\n",
    "[6,7,8,9,10]])\n",
    "print(a[:,-1])"
   ]
  },
  {
   "cell_type": "code",
   "execution_count": 112,
   "id": "288a1959-048e-4339-a960-1a78a0bed4db",
   "metadata": {},
   "outputs": [
    {
     "name": "stdout",
     "output_type": "stream",
     "text": [
      "[[ 5  4]\n",
      " [10  9]]\n"
     ]
    }
   ],
   "source": [
    "print(a[:,-1:-3:-1])"
   ]
  },
  {
   "cell_type": "markdown",
   "id": "34723b11-4270-471a-b303-84070210836a",
   "metadata": {},
   "source": [
    "Having said that, the basic logic of slicing remains the same, i.e. the end index is never included in the output.\n",
    "\n",
    "An interesting use of negative slicing is to reverse the original array."
   ]
  },
  {
   "cell_type": "code",
   "execution_count": 114,
   "id": "86add390-13e7-4414-a9a7-4b41c5ea8d02",
   "metadata": {},
   "outputs": [
    {
     "name": "stdout",
     "output_type": "stream",
     "text": [
      "Original array : \n",
      " [[ 1  2  3  4  5]\n",
      " [ 6  7  8  9 10]]\n",
      "Reversed array : \n",
      " [[10  9  8  7  6]\n",
      " [ 5  4  3  2  1]]\n"
     ]
    }
   ],
   "source": [
    "a = np.array([[1,2,3,4,5],\n",
    "[6,7,8,9,10]])\n",
    "print('Original array :','\\n',a)\n",
    "print('Reversed array :','\\n',a[::-1,::-1])"
   ]
  },
  {
   "cell_type": "markdown",
   "id": "e49beda2-7f03-4e05-a10f-f90259ec1ad5",
   "metadata": {},
   "source": [
    "You can also use the flip() method to reverse an ndarray."
   ]
  },
  {
   "cell_type": "code",
   "execution_count": 116,
   "id": "e6080e1f-4a8a-4387-966c-ad7135661de1",
   "metadata": {},
   "outputs": [
    {
     "name": "stdout",
     "output_type": "stream",
     "text": [
      "Original array : \n",
      " [[ 1  2  3  4  5]\n",
      " [ 6  7  8  9 10]]\n",
      "Reversed array vertically : \n",
      " [[ 5  4  3  2  1]\n",
      " [10  9  8  7  6]]\n",
      "Reversed array horizontally : \n",
      " [[ 6  7  8  9 10]\n",
      " [ 1  2  3  4  5]]\n"
     ]
    }
   ],
   "source": [
    "a = np.array([[1,2,3,4,5],\n",
    "[6,7,8,9,10]])\n",
    "print('Original array :','\\n',a)\n",
    "print('Reversed array vertically :','\\n',np.flip(a,axis=1))\n",
    "print('Reversed array horizontally :','\\n',np.flip(a,axis=0))"
   ]
  },
  {
   "cell_type": "markdown",
   "id": "7f91de62-d0f1-4efb-ac94-d6456a7d4bdf",
   "metadata": {},
   "source": [
    "Stacking and Concatenating NumPy arrays"
   ]
  },
  {
   "cell_type": "markdown",
   "id": "2584ff6f-4f7f-488d-9622-f42cb8f3cbb0",
   "metadata": {},
   "source": [
    "Stacking ndarrays\n",
    "\n",
    "You can create a new array by combining existing arrays. This you can do in two ways:\n",
    "\n",
    "Either combine the arrays vertically (i.e. along the rows) using the vstack() method, thereby increasing the number of rows in the resulting array\n",
    "Or combine the arrays in a horizontal fashion (i.e. along the columns) using the hstack(), thereby increasing the number of columns in the resultant array"
   ]
  },
  {
   "cell_type": "code",
   "execution_count": 118,
   "id": "2f94c6ac-b95f-4957-bf6b-c74fafdaa54b",
   "metadata": {},
   "outputs": [
    {
     "name": "stdout",
     "output_type": "stream",
     "text": [
      "Array 1 : \n",
      " [0 1 2 3 4]\n",
      "Array 2 : \n",
      " [5 6 7 8 9]\n",
      "Vertical stacking : \n",
      " [[0 1 2 3 4]\n",
      " [5 6 7 8 9]]\n",
      "Horizontal stacking : \n",
      " [0 1 2 3 4 5 6 7 8 9]\n"
     ]
    }
   ],
   "source": [
    "a = np.arange(0,5)\n",
    "b = np.arange(5,10)\n",
    "print('Array 1 :','\\n',a)\n",
    "print('Array 2 :','\\n',b)\n",
    "print('Vertical stacking :','\\n',np.vstack((a,b)))\n",
    "print('Horizontal stacking :','\\n',np.hstack((a,b)))"
   ]
  },
  {
   "cell_type": "markdown",
   "id": "57020dbd-0985-48ec-9dc3-b6d2d36f020f",
   "metadata": {},
   "source": [
    "A point to note here is that the axis along which you are combining the array should have the same size otherwise you are bound to get an error!"
   ]
  },
  {
   "cell_type": "code",
   "execution_count": 120,
   "id": "7dcde0b0-ebf1-409c-8e6b-a78f3f092616",
   "metadata": {},
   "outputs": [
    {
     "name": "stdout",
     "output_type": "stream",
     "text": [
      "Array 1 : \n",
      " [0 1 2 3 4]\n",
      "Array 2 : \n",
      " [5 6 7 8]\n"
     ]
    },
    {
     "ename": "ValueError",
     "evalue": "all the input array dimensions except for the concatenation axis must match exactly, but along dimension 1, the array at index 0 has size 5 and the array at index 1 has size 4",
     "output_type": "error",
     "traceback": [
      "\u001b[0;31m---------------------------------------------------------------------------\u001b[0m",
      "\u001b[0;31mValueError\u001b[0m                                Traceback (most recent call last)",
      "Cell \u001b[0;32mIn[120], line 5\u001b[0m\n\u001b[1;32m      3\u001b[0m \u001b[38;5;28mprint\u001b[39m(\u001b[38;5;124m'\u001b[39m\u001b[38;5;124mArray 1 :\u001b[39m\u001b[38;5;124m'\u001b[39m,\u001b[38;5;124m'\u001b[39m\u001b[38;5;130;01m\\n\u001b[39;00m\u001b[38;5;124m'\u001b[39m,a)\n\u001b[1;32m      4\u001b[0m \u001b[38;5;28mprint\u001b[39m(\u001b[38;5;124m'\u001b[39m\u001b[38;5;124mArray 2 :\u001b[39m\u001b[38;5;124m'\u001b[39m,\u001b[38;5;124m'\u001b[39m\u001b[38;5;130;01m\\n\u001b[39;00m\u001b[38;5;124m'\u001b[39m,b)\n\u001b[0;32m----> 5\u001b[0m \u001b[38;5;28mprint\u001b[39m(\u001b[38;5;124m'\u001b[39m\u001b[38;5;124mVertical stacking :\u001b[39m\u001b[38;5;124m'\u001b[39m,\u001b[38;5;124m'\u001b[39m\u001b[38;5;130;01m\\n\u001b[39;00m\u001b[38;5;124m'\u001b[39m,np\u001b[38;5;241m.\u001b[39mvstack((a,b)))\n\u001b[1;32m      6\u001b[0m \u001b[38;5;28mprint\u001b[39m(\u001b[38;5;124m'\u001b[39m\u001b[38;5;124mHorizontal stacking :\u001b[39m\u001b[38;5;124m'\u001b[39m,\u001b[38;5;124m'\u001b[39m\u001b[38;5;130;01m\\n\u001b[39;00m\u001b[38;5;124m'\u001b[39m,np\u001b[38;5;241m.\u001b[39mhstack((a,b)))\n",
      "File \u001b[0;32m/opt/anaconda3/lib/python3.12/site-packages/numpy/core/shape_base.py:289\u001b[0m, in \u001b[0;36mvstack\u001b[0;34m(tup, dtype, casting)\u001b[0m\n\u001b[1;32m    287\u001b[0m \u001b[38;5;28;01mif\u001b[39;00m \u001b[38;5;129;01mnot\u001b[39;00m \u001b[38;5;28misinstance\u001b[39m(arrs, \u001b[38;5;28mlist\u001b[39m):\n\u001b[1;32m    288\u001b[0m     arrs \u001b[38;5;241m=\u001b[39m [arrs]\n\u001b[0;32m--> 289\u001b[0m \u001b[38;5;28;01mreturn\u001b[39;00m _nx\u001b[38;5;241m.\u001b[39mconcatenate(arrs, \u001b[38;5;241m0\u001b[39m, dtype\u001b[38;5;241m=\u001b[39mdtype, casting\u001b[38;5;241m=\u001b[39mcasting)\n",
      "\u001b[0;31mValueError\u001b[0m: all the input array dimensions except for the concatenation axis must match exactly, but along dimension 1, the array at index 0 has size 5 and the array at index 1 has size 4"
     ]
    }
   ],
   "source": [
    "a = np.arange(0,5)\n",
    "b = np.arange(5,9)\n",
    "print('Array 1 :','\\n',a)\n",
    "print('Array 2 :','\\n',b)\n",
    "print('Vertical stacking :','\\n',np.vstack((a,b)))\n",
    "print('Horizontal stacking :','\\n',np.hstack((a,b)))"
   ]
  },
  {
   "cell_type": "markdown",
   "id": "a56796f3-3fbb-41c4-a204-d888ee89a0fe",
   "metadata": {},
   "source": [
    "Another interesting way to combine arrays is using the dstack() method. It combines array elements index by index and stacks them along the depth axis:"
   ]
  },
  {
   "cell_type": "code",
   "execution_count": 122,
   "id": "158d58d6-91cf-417b-8322-7f75f8dedb3c",
   "metadata": {},
   "outputs": [
    {
     "name": "stdout",
     "output_type": "stream",
     "text": [
      "Array 1 : \n",
      " [[1, 2], [3, 4]]\n",
      "Array 2 : \n",
      " [[5, 6], [7, 8]]\n",
      "Dstack : \n",
      " [[[1 5]\n",
      "  [2 6]]\n",
      "\n",
      " [[3 7]\n",
      "  [4 8]]]\n",
      "(2, 2, 2)\n"
     ]
    }
   ],
   "source": [
    "a = [[1,2],[3,4]]\n",
    "b = [[5,6],[7,8]]\n",
    "c = np.dstack((a,b))\n",
    "print('Array 1 :','\\n',a)\n",
    "print('Array 2 :','\\n',b)\n",
    "print('Dstack :','\\n',c)\n",
    "print(c.shape)"
   ]
  },
  {
   "cell_type": "markdown",
   "id": "1484bfda-8709-4119-b4b1-2ee5971f70a3",
   "metadata": {},
   "source": [
    "Concatenating ndarrays\n",
    "\n",
    "While stacking arrays is one way of combining old arrays to get a new one, you could also use the concatenate() method where the passed arrays are joined along an existing axis:"
   ]
  },
  {
   "cell_type": "code",
   "execution_count": 124,
   "id": "f172f543-f6ab-448d-a1ad-af02e712eb34",
   "metadata": {},
   "outputs": [
    {
     "name": "stdout",
     "output_type": "stream",
     "text": [
      "Array 1 : \n",
      " [[0 1 2 3 4]]\n",
      "Array 2 : \n",
      " [[5 6 7 8 9]]\n",
      "Concatenate along rows : \n",
      " [[0 1 2 3 4]\n",
      " [5 6 7 8 9]]\n",
      "Concatenate along columns : \n",
      " [[0 1 2 3 4 5 6 7 8 9]]\n"
     ]
    }
   ],
   "source": [
    "a = np.arange(0,5).reshape(1,5)\n",
    "b = np.arange(5,10).reshape(1,5)\n",
    "print('Array 1 :','\\n',a)\n",
    "print('Array 2 :','\\n',b)\n",
    "print('Concatenate along rows :','\\n',np.concatenate((a,b),axis=0))\n",
    "print('Concatenate along columns :','\\n',np.concatenate((a,b),axis=1))"
   ]
  },
  {
   "cell_type": "markdown",
   "id": "5e192f3e-d806-4dcf-9482-3768f8a8987c",
   "metadata": {},
   "source": [
    "The drawback of this method is that the original array must have the axis along which you want to combine. Otherwise, get ready to be greeted by an error.\n",
    "\n",
    "Another very useful function is the append method that adds new elements to the end of a ndarray. This is obviously useful when you already have an existing ndarray but want to add new values to it."
   ]
  },
  {
   "cell_type": "code",
   "execution_count": 126,
   "id": "b075a04c-8b68-4253-aa7c-a6bbe5f19aae",
   "metadata": {},
   "outputs": [
    {
     "data": {
      "text/plain": [
       "array([[1, 2],\n",
       "       [3, 4],\n",
       "       [5, 6]])"
      ]
     },
     "execution_count": 126,
     "metadata": {},
     "output_type": "execute_result"
    }
   ],
   "source": [
    "# append values to ndarray\n",
    "a = np.array([[1,2],\n",
    "             [3,4]])\n",
    "np.append(a,[[5,6]], axis=0)"
   ]
  },
  {
   "cell_type": "markdown",
   "id": "86ef7b45-665e-4f3b-82c4-06936e29e092",
   "metadata": {},
   "source": [
    "Broadcasting in NumPy arrays – A class apart!\n",
    "\n",
    "Broadcasting is one of the best features of ndarrays. It lets you perform arithmetics operations between ndarrays of different sizes or between an ndarray and a simple number!\n",
    "\n",
    "Broadcasting essentially stretches the smaller ndarray so that it matches the shape of the larger ndarray:"
   ]
  },
  {
   "cell_type": "code",
   "execution_count": 128,
   "id": "161abf93-c5bb-40d8-a3ee-f8b7acfaaaf5",
   "metadata": {},
   "outputs": [
    {
     "name": "stdout",
     "output_type": "stream",
     "text": [
      "Adding two different size arrays : \n",
      " [[12 14 16 18 20]\n",
      " [12 14 16 18 20]]\n",
      "Multiplying an ndarray and a number : [20 24 28 32 36]\n"
     ]
    }
   ],
   "source": [
    "a = np.arange(10,20,2)\n",
    "b = np.array([[2],[2]])\n",
    "print('Adding two different size arrays :','\\n',a+b)\n",
    "print('Multiplying an ndarray and a number :',a*2)"
   ]
  },
  {
   "cell_type": "markdown",
   "id": "568bdf92-1042-49aa-91d1-22201e73ed47",
   "metadata": {},
   "source": [
    "Maths with NumPy arrays\n",
    "\n",
    "Here are some of the most important and useful operations that you will need to perform on your NumPy array.\n",
    "\n",
    "Basic arithmetic operations on NumPy arrays\n",
    "\n",
    "The basic arithmetic operations can easily be performed on NumPy arrays. The important thing to remember is that these simple arithmetics operation symbols just act as wrappers for NumPy ufuncs."
   ]
  },
  {
   "cell_type": "code",
   "execution_count": 130,
   "id": "dd4df82a-6705-4502-9766-435d889577f0",
   "metadata": {},
   "outputs": [
    {
     "name": "stdout",
     "output_type": "stream",
     "text": [
      "Subtract : [ 5  7  9 11 13]\n",
      "Multiply : [50 60 70 80 90]\n",
      "Divide : [2.  2.4 2.8 3.2 3.6]\n",
      "Power : [100 144 196 256 324]\n",
      "Remainder : [0 2 4 1 3]\n"
     ]
    }
   ],
   "source": [
    "print('Subtract :',a-5)\n",
    "print('Multiply :',a*5)\n",
    "print('Divide :',a/5)\n",
    "print('Power :',a**2)\n",
    "print('Remainder :',a%5)"
   ]
  },
  {
   "cell_type": "markdown",
   "id": "0ba10821-5f27-4c37-9baa-7dd026ca4cf8",
   "metadata": {},
   "source": [
    "Mean, Median and Standard deviation\n",
    "\n",
    "To find the mean and standard deviation of a NumPy array, use the mean(), std() and median() methods:"
   ]
  },
  {
   "cell_type": "code",
   "execution_count": 132,
   "id": "76a566d5-4188-42c1-b4ee-82562de5d322",
   "metadata": {},
   "outputs": [
    {
     "name": "stdout",
     "output_type": "stream",
     "text": [
      "Mean : 9.0\n",
      "Standard deviation : 2.8284271247461903\n",
      "Median : 9.0\n"
     ]
    }
   ],
   "source": [
    "a = np.arange(5,15,2)\n",
    "print('Mean :',np.mean(a))\n",
    "print('Standard deviation :',np.std(a))\n",
    "print('Median :',np.median(a))"
   ]
  },
  {
   "cell_type": "markdown",
   "id": "d23301a2-d26e-4c11-9fe1-be704f77ab59",
   "metadata": {},
   "source": [
    "Min-Max values and their indexes\n",
    "\n",
    "Min and Max values in an ndarray can be easily found using the min() and max() methods:"
   ]
  },
  {
   "cell_type": "code",
   "execution_count": 134,
   "id": "70c0aad7-0aa6-4b11-bb00-e80b0a0f9a56",
   "metadata": {},
   "outputs": [
    {
     "name": "stdout",
     "output_type": "stream",
     "text": [
      "Min : [1 3]\n",
      "Max : [6 4]\n"
     ]
    }
   ],
   "source": [
    "a = np.array([[1,6],\n",
    "[4,3]])\n",
    "# minimum along a column\n",
    "print('Min :',np.min(a,axis=0))\n",
    "# maximum along a row\n",
    "print('Max :',np.max(a,axis=1))"
   ]
  },
  {
   "cell_type": "markdown",
   "id": "8978d68c-beb7-4770-8887-18452b8b5dc3",
   "metadata": {},
   "source": [
    "You can also easily determine the index of the minimum or maximum value in the ndarray along a particular axis using the argmin() and argmax() methods:"
   ]
  },
  {
   "cell_type": "code",
   "execution_count": 136,
   "id": "d4e604fc-6a4e-45ef-9eae-17fd954d0813",
   "metadata": {},
   "outputs": [
    {
     "name": "stdout",
     "output_type": "stream",
     "text": [
      "Min : [0 1 0]\n",
      "Max : [1 2]\n"
     ]
    }
   ],
   "source": [
    "a = np.array([[1,6,5],\n",
    "[4,3,7]])\n",
    "# minimum along a column\n",
    "print('Min :',np.argmin(a,axis=0))\n",
    "# maximum along a row\n",
    "print('Max :',np.argmax(a,axis=1))"
   ]
  },
  {
   "cell_type": "code",
   "execution_count": null,
   "id": "edd33d36-9822-46a8-8677-ace120cb1a35",
   "metadata": {},
   "outputs": [],
   "source": []
  }
 ],
 "metadata": {
  "kernelspec": {
   "display_name": "Python [conda env:base] *",
   "language": "python",
   "name": "conda-base-py"
  },
  "language_info": {
   "codemirror_mode": {
    "name": "ipython",
    "version": 3
   },
   "file_extension": ".py",
   "mimetype": "text/x-python",
   "name": "python",
   "nbconvert_exporter": "python",
   "pygments_lexer": "ipython3",
   "version": "3.12.7"
  }
 },
 "nbformat": 4,
 "nbformat_minor": 5
}

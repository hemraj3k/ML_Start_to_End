{
 "cells": [
  {
   "cell_type": "code",
   "execution_count": 2,
   "id": "6bc43acd-32c1-4124-bec8-8944f0ff5dcd",
   "metadata": {},
   "outputs": [
    {
     "name": "stdout",
     "output_type": "stream",
     "text": [
      "1D Array:\n",
      " [1 2 3]\n",
      "2D Array:\n",
      " [[1 2 3]\n",
      " [4 5 6]]\n",
      "3D Array:\n",
      " [[[1 2]\n",
      "  [3 4]]\n",
      "\n",
      " [[5 6]\n",
      "  [7 8]]]\n"
     ]
    }
   ],
   "source": [
    "import numpy as np\n",
    "# 1D Array (Vector)\n",
    "arr1 = np.array([1, 2, 3])\n",
    "# 2D Array (Matrix)\n",
    "arr2 = np.array([[1, 2, 3], [4, 5, 6]])\n",
    "# 3D Array (Tensor)\n",
    "arr3 = np.array([[[1, 2], [3, 4]], [[5, 6], [7, 8]]])\n",
    "print(\"1D Array:\\n\", arr1)\n",
    "print(\"2D Array:\\n\", arr2)\n",
    "print(\"3D Array:\\n\", arr3)"
   ]
  },
  {
   "cell_type": "code",
   "execution_count": 4,
   "id": "9b27dfaa-cba0-4b03-974e-db8ba754242c",
   "metadata": {},
   "outputs": [
    {
     "name": "stdout",
     "output_type": "stream",
     "text": [
      "Number of Dimensions: 3\n",
      "Shape: (2, 2, 2)\n",
      "Size: 8\n",
      "Data Type: int64\n",
      "Item Size: 8\n"
     ]
    }
   ],
   "source": [
    "arr3 = np.array([[[1, 2], [3, 4]], [[5, 6], [7, 8]]])\n",
    "print(\"Number of Dimensions:\", arr3.ndim)\n",
    "print(\"Shape:\", arr3.shape)\n",
    "print(\"Size:\", arr3.size)\n",
    "print(\"Data Type:\", arr3.dtype)\n",
    "print(\"Item Size:\", arr3.itemsize)"
   ]
  },
  {
   "cell_type": "code",
   "execution_count": 8,
   "id": "a472c531-0575-425c-8103-8644e1518120",
   "metadata": {},
   "outputs": [
    {
     "name": "stdout",
     "output_type": "stream",
     "text": [
      "[[[[5.17402896e-01 4.50390672e-01 1.53749574e-01 1.76496570e-01\n",
      "    6.06579699e-03]\n",
      "   [8.76697189e-01 2.48930584e-01 7.39774631e-01 3.82407474e-01\n",
      "    7.16781067e-01]\n",
      "   [8.02996665e-01 8.56068617e-05 3.45135388e-01 4.62575643e-01\n",
      "    7.71450661e-01]\n",
      "   [5.34106888e-01 4.31503753e-01 5.95059946e-01 3.96910841e-01\n",
      "    3.62476918e-01]]\n",
      "\n",
      "  [[1.91582279e-01 1.10041975e-01 9.43393177e-01 4.31297954e-01\n",
      "    5.33007262e-02]\n",
      "   [6.99632862e-01 1.22772225e-02 5.63620361e-01 3.67760484e-01\n",
      "    2.31018006e-02]\n",
      "   [1.29654369e-01 9.78347267e-01 4.92972992e-01 1.22228695e-01\n",
      "    4.04260380e-01]\n",
      "   [1.13742677e-01 1.50148188e-01 7.83856488e-01 9.98584649e-01\n",
      "    8.15163896e-01]]\n",
      "\n",
      "  [[9.20516688e-01 5.29641124e-01 8.81778864e-01 1.89470604e-01\n",
      "    7.82609748e-01]\n",
      "   [8.07471768e-01 6.59911828e-02 4.36823459e-01 1.22491407e-01\n",
      "    8.53126242e-01]\n",
      "   [5.67264711e-01 8.05663498e-02 9.42755833e-01 9.41898276e-01\n",
      "    7.20061732e-01]\n",
      "   [5.48895925e-01 8.34660432e-01 9.80428645e-01 3.12780971e-01\n",
      "    4.77580989e-01]]]\n",
      "\n",
      "\n",
      " [[[4.00027041e-01 4.28455806e-01 4.75317605e-01 2.18525534e-01\n",
      "    3.67535074e-01]\n",
      "   [2.44825176e-01 3.88495187e-01 8.65160213e-01 5.01558527e-01\n",
      "    5.94640512e-01]\n",
      "   [5.31327103e-01 4.46283092e-01 8.38192018e-01 9.45922241e-01\n",
      "    8.43698505e-01]\n",
      "   [8.44746947e-01 9.01632147e-01 1.92284191e-01 7.57660120e-01\n",
      "    5.48044911e-01]]\n",
      "\n",
      "  [[3.39292653e-01 1.44264060e-01 3.05246670e-01 1.81000757e-02\n",
      "    7.44058331e-02]\n",
      "   [9.29725364e-01 2.84445493e-01 9.35705545e-01 7.85035944e-01\n",
      "    4.45891848e-02]\n",
      "   [5.32555310e-01 6.46368740e-01 1.46823482e-01 7.99639884e-01\n",
      "    2.92710668e-01]\n",
      "   [3.80015994e-01 3.79204928e-01 5.34092936e-02 5.58794161e-01\n",
      "    5.04755648e-01]]\n",
      "\n",
      "  [[3.98390609e-01 9.01348638e-01 2.68146581e-01 5.75078949e-01\n",
      "    6.15548872e-01]\n",
      "   [3.13222706e-01 9.30873429e-01 9.21258114e-01 9.44784707e-01\n",
      "    9.38535099e-01]\n",
      "   [5.43511750e-02 8.20650836e-01 3.97525705e-02 5.38454919e-01\n",
      "    1.22751405e-01]\n",
      "   [5.25072690e-02 5.64710525e-01 9.27929132e-01 8.69494736e-01\n",
      "    4.83513652e-01]]]]\n",
      "(2, 3, 4, 5)\n"
     ]
    }
   ],
   "source": [
    "arr4D = np.random.rand(2, 3, 4, 5)  # Shape (2,3,4,5)\n",
    "print(arr4D)\n",
    "print(arr4D.shape)  # Output: (2, 3, 4, 5)\n"
   ]
  },
  {
   "cell_type": "code",
   "execution_count": 10,
   "id": "57d411dd-c994-49d8-9ba1-d2182dfe00f6",
   "metadata": {},
   "outputs": [
    {
     "name": "stdout",
     "output_type": "stream",
     "text": [
      "[[ 6  8]\n",
      " [10 12]]\n",
      "[[ 6  8]\n",
      " [10 12]]\n"
     ]
    }
   ],
   "source": [
    "# Element-wise addition\n",
    "arr4 = np.array([[1, 2], [3, 4]])\n",
    "arr5 = np.array([[5, 6], [7, 8]])\n",
    "print(arr4 + arr5)  # [[ 6  8] [10 12]]\n",
    "\n",
    "# Sum along an axis\n",
    "print(arr3.sum(axis=0))  # Summing across the first axis\n"
   ]
  },
  {
   "cell_type": "code",
   "execution_count": 12,
   "id": "7cca4302-f84a-4a96-b54f-3dfbbf9508a6",
   "metadata": {},
   "outputs": [
    {
     "name": "stdout",
     "output_type": "stream",
     "text": [
      "[[ 0  1  2  3]\n",
      " [ 4  5  6  7]\n",
      " [ 8  9 10 11]\n",
      " [12 13 14 15]]\n"
     ]
    }
   ],
   "source": [
    "arr6 = np.arange(16).reshape(4, 4)  # Creates a 4x4 matrix\n",
    "print(arr6)\n"
   ]
  },
  {
   "cell_type": "code",
   "execution_count": 14,
   "id": "1e7104e7-42aa-4d90-b1d5-3b5456f9a2eb",
   "metadata": {},
   "outputs": [
    {
     "name": "stdout",
     "output_type": "stream",
     "text": [
      "(2, 3)\n"
     ]
    }
   ],
   "source": [
    "import numpy as np\n",
    "arr = np.array([[1, 2, 3], [4, 5, 6]])  # 2D array\n",
    "print(arr.shape)  # (2, 3)\n"
   ]
  },
  {
   "cell_type": "code",
   "execution_count": 16,
   "id": "1d375382-cb99-43c5-9112-22135a3d7ab6",
   "metadata": {},
   "outputs": [
    {
     "name": "stdout",
     "output_type": "stream",
     "text": [
      "[2 4 6 8]\n"
     ]
    }
   ],
   "source": [
    "arr = np.array([1, 2, 3, 4])\n",
    "print(arr * 2)  # [2 4 6 8] (Fast vectorized operation)\n"
   ]
  },
  {
   "cell_type": "code",
   "execution_count": 18,
   "id": "fa9feba0-c6c7-47da-a9e5-9220c00180ac",
   "metadata": {},
   "outputs": [
    {
     "name": "stdout",
     "output_type": "stream",
     "text": [
      "[[2 4]\n",
      " [4 6]]\n"
     ]
    }
   ],
   "source": [
    "A = np.array([[1, 2], [3, 4]])\n",
    "B = np.array([1, 2])  # Automatically broadcasts\n",
    "print(A + B)\n",
    "# Output:\n",
    "# [[2 4]\n",
    "#  [4 6]]\n"
   ]
  },
  {
   "cell_type": "code",
   "execution_count": 20,
   "id": "fbe52fb7-5557-4344-9c32-91a690487e06",
   "metadata": {},
   "outputs": [
    {
     "name": "stdout",
     "output_type": "stream",
     "text": [
      "3.0\n",
      "1.4142135623730951\n",
      "15\n",
      "120\n"
     ]
    }
   ],
   "source": [
    "arr = np.array([1, 2, 3, 4, 5])\n",
    "print(np.mean(arr))  # 3.0\n",
    "print(np.std(arr))   # Standard deviation\n",
    "print(np.sum(arr))   # 15\n",
    "print(np.prod(arr))  # 120 (1*2*3*4*5)\n"
   ]
  },
  {
   "cell_type": "code",
   "execution_count": 22,
   "id": "dcbde9ee-1790-45d8-833b-beab6d833472",
   "metadata": {},
   "outputs": [
    {
     "name": "stdout",
     "output_type": "stream",
     "text": [
      "[20 30 40]\n",
      "[30 40 50]\n"
     ]
    }
   ],
   "source": [
    "arr = np.array([10, 20, 30, 40, 50])\n",
    "print(arr[1:4])  # [20, 30, 40] (Slicing)\n",
    "print(arr[arr > 25])  # [30, 40, 50] (Boolean Masking)\n"
   ]
  },
  {
   "cell_type": "code",
   "execution_count": 24,
   "id": "befaffbb-8663-4423-821c-9094cab05a02",
   "metadata": {},
   "outputs": [
    {
     "name": "stdout",
     "output_type": "stream",
     "text": [
      "[[0 1 2]\n",
      " [3 4 5]]\n",
      "[0 1 2 3 4 5]\n"
     ]
    }
   ],
   "source": [
    "arr = np.arange(6).reshape(2, 3)  # Reshape 1D → 2D\n",
    "print(arr)\n",
    "# [[0 1 2]\n",
    "#  [3 4 5]]\n",
    "\n",
    "print(arr.flatten())  # Convert 2D → 1D\n"
   ]
  },
  {
   "cell_type": "code",
   "execution_count": 26,
   "id": "98bcb31f-6728-4fa3-ad8a-49b88e6e7d30",
   "metadata": {},
   "outputs": [
    {
     "name": "stdout",
     "output_type": "stream",
     "text": [
      "[[19 22]\n",
      " [43 50]]\n",
      "[[-2.   1. ]\n",
      " [ 1.5 -0.5]]\n",
      "-2.0000000000000004\n"
     ]
    }
   ],
   "source": [
    "A = np.array([[1, 2], [3, 4]])\n",
    "B = np.array([[5, 6], [7, 8]])\n",
    "\n",
    "print(np.dot(A, B))  # Matrix multiplication\n",
    "print(np.linalg.inv(A))  # Inverse of matrix A\n",
    "print(np.linalg.det(A))  # Determinant of A\n"
   ]
  },
  {
   "cell_type": "code",
   "execution_count": 28,
   "id": "82b47a63-a266-4bb6-b3af-74b60bcd2d20",
   "metadata": {},
   "outputs": [
    {
     "data": {
      "text/plain": [
       "array([[-0.61992015,  0.9975981 , -1.03073542],\n",
       "       [ 0.71105212, -0.22242434, -1.1133449 ],\n",
       "       [-0.62435711,  1.29459626, -0.37614096]])"
      ]
     },
     "execution_count": 28,
     "metadata": {},
     "output_type": "execute_result"
    }
   ],
   "source": [
    "np.random.rand(3, 3)  # Random values (0 to 1)\n",
    "np.random.randint(1, 100, (2, 2))  # Random integers (1-99)\n",
    "np.random.randn(3, 3)  # Normal distribution\n"
   ]
  },
  {
   "cell_type": "code",
   "execution_count": 30,
   "id": "9c976e9c-e1cb-477f-9869-c7c5a4090f62",
   "metadata": {},
   "outputs": [
    {
     "data": {
      "image/png": "[encoded data removed]",
      "text/plain": [
       "<Figure size 640x480 with 1 Axes>"
      ]
     },
     "metadata": {},
     "output_type": "display_data"
    }
   ],
   "source": [
    "import matplotlib.pyplot as plt\n",
    "x = np.linspace(0, 10, 100)  # 100 points between 0 and 10\n",
    "y = np.sin(x)\n",
    "\n",
    "plt.plot(x, y)\n",
    "plt.show()\n"
   ]
  },
  {
   "cell_type": "code",
   "execution_count": 32,
   "id": "a000bc50-857b-475e-92a9-a7cafd0da33f",
   "metadata": {},
   "outputs": [],
   "source": [
    "np.save(\"data.npy\", arr)  # Save array\n",
    "arr = np.load(\"data.npy\")  # Load array\n",
    "\n",
    "np.savetxt(\"data.csv\", arr, delimiter=\",\")  # Save as CSV\n",
    "arr = np.loadtxt(\"data.csv\", delimiter=\",\")  # Load CSV\n"
   ]
  },
  {
   "cell_type": "markdown",
   "id": "85f04a40-effd-462f-b930-42a89833a810",
   "metadata": {},
   "source": [
    "Important NumPy Commands for Deep Learning & Data Science"
   ]
  },
  {
   "cell_type": "markdown",
   "id": "368fa187-f9b6-4c8b-b506-e1d27f0df847",
   "metadata": {},
   "source": [
    "NumPy Basics"
   ]
  },
  {
   "cell_type": "code",
   "execution_count": 36,
   "id": "ef269262-7f6f-420d-90f1-4e0bf9213b4f",
   "metadata": {},
   "outputs": [],
   "source": [
    "import numpy as np  # Import NumPy\n"
   ]
  },
  {
   "cell_type": "code",
   "execution_count": 38,
   "id": "c9c08012-e854-44ed-84fe-c0752e1da50d",
   "metadata": {},
   "outputs": [
    {
     "data": {
      "text/plain": [
       "'1.26.4'"
      ]
     },
     "execution_count": 38,
     "metadata": {},
     "output_type": "execute_result"
    }
   ],
   "source": [
    "np.__version__  # Check NumPy version\n"
   ]
  },
  {
   "cell_type": "markdown",
   "id": "c3675bc9-1b65-4b5e-a15e-811ea91939ab",
   "metadata": {},
   "source": [
    "Creating Arrays"
   ]
  },
  {
   "cell_type": "code",
   "execution_count": 44,
   "id": "159d946e-0cca-49ac-8a7f-99ccae731b83",
   "metadata": {},
   "outputs": [
    {
     "name": "stdout",
     "output_type": "stream",
     "text": [
      "[1 2 3]\n",
      "[[1 2 3]\n",
      " [4 5 6]]\n"
     ]
    }
   ],
   "source": [
    "arr = np.array([1, 2, 3])  # 1D array\n",
    "arr2D = np.array([[1, 2, 3], [4, 5, 6]])  # 2D array\n",
    "print(arr)\n",
    "print(arr2D)"
   ]
  },
  {
   "cell_type": "code",
   "execution_count": 46,
   "id": "79ffdd57-2bb3-4378-878b-1afd7e55ce9a",
   "metadata": {},
   "outputs": [
    {
     "name": "stdout",
     "output_type": "stream",
     "text": [
      "[[0. 0. 0.]\n",
      " [0. 0. 0.]\n",
      " [0. 0. 0.]]\n",
      "[[1. 1. 1. 1.]\n",
      " [1. 1. 1. 1.]]\n",
      "[[7 7 7]\n",
      " [7 7 7]]\n",
      "[[1. 0. 0.]\n",
      " [0. 1. 0.]\n",
      " [0. 0. 1.]]\n"
     ]
    }
   ],
   "source": [
    "matrix_zero = np.zeros((3, 3))  # 3x3 matrix of zeros\n",
    "matrix_ones = np.ones((2, 4))   # 2x4 matrix of ones\n",
    "matrix_filled_7 = np.full((2, 3), 7)  # 2x3 matrix filled with 7\n",
    "matrix_eye = np.eye(3)  # Identity matrix (3x3)\n",
    "print(matrix_zero)\n",
    "print(matrix_ones)\n",
    "print(matrix_filled_7)\n",
    "print(matrix_eye)"
   ]
  },
  {
   "cell_type": "code",
   "execution_count": 48,
   "id": "492ab869-1440-4ee9-a2e1-7abbc1265979",
   "metadata": {},
   "outputs": [
    {
     "name": "stdout",
     "output_type": "stream",
     "text": [
      "[11 12 13 14]\n",
      "[2 4 6 8]\n",
      "[0.5 1.  1.5 2. ]\n",
      "[ 1  4  9 16]\n"
     ]
    }
   ],
   "source": [
    "arr = np.array([1, 2, 3, 4])\n",
    "print(arr + 10 ) # Add 10 to each element\n",
    "print(arr * 2)   # Multiply each element by 2\n",
    "print(arr / 2)   # Divide each element by 2\n",
    "print(arr ** 2)  # Square each element\n"
   ]
  },
  {
   "cell_type": "code",
   "execution_count": 50,
   "id": "3411f1e6-34a9-4ba3-9cca-7a58f8f8be05",
   "metadata": {},
   "outputs": [
    {
     "name": "stdout",
     "output_type": "stream",
     "text": [
      "[[19 22]\n",
      " [43 50]]\n",
      "[[19 22]\n",
      " [43 50]]\n",
      "[[19 22]\n",
      " [43 50]]\n",
      "[[1 3]\n",
      " [2 4]]\n",
      "[[-2.   1. ]\n",
      " [ 1.5 -0.5]]\n",
      "-2.0000000000000004\n"
     ]
    }
   ],
   "source": [
    "A = np.array([[1, 2], [3, 4]])\n",
    "B = np.array([[5, 6], [7, 8]])\n",
    "\n",
    "print(np.dot(A, B))  # Matrix multiplication\n",
    "print(np.matmul(A, B))  # Another way to do matrix multiplication\n",
    "print(A @ B)  # Same as np.dot\n",
    "print(np.transpose(A))  # Transpose of A\n",
    "print(np.linalg.inv(A))  # Inverse of A\n",
    "print(np.linalg.det(A))  # Determinant of A"
   ]
  },
  {
   "cell_type": "code",
   "execution_count": null,
   "id": "6240e53c-7670-494c-bc39-62e6893696e2",
   "metadata": {},
   "outputs": [],
   "source": [
    "Indexing & Slicing\n"
   ]
  },
  {
   "cell_type": "code",
   "execution_count": 54,
   "id": "640c6d1d-48d4-4143-ac9f-a3c2e965dbe7",
   "metadata": {},
   "outputs": [
    {
     "name": "stdout",
     "output_type": "stream",
     "text": [
      "20\n",
      "50\n",
      "[20 30 40]\n",
      "[10 20 30]\n",
      "[10 30 50]\n"
     ]
    }
   ],
   "source": [
    "arr = np.array([10, 20, 30, 40, 50])\n",
    "print(arr[1])  # Access second element (20)\n",
    "print(arr[-1])  # Access last element (50)\n",
    "print(arr[1:4])  # Slice from index 1 to 3 ([20, 30, 40])\n",
    "print(arr[:3])  # First 3 elements ([10, 20, 30])\n",
    "print(arr[::2])  # Every second element ([10, 30, 50])"
   ]
  },
  {
   "cell_type": "code",
   "execution_count": 56,
   "id": "a1c77717-a2c6-4450-89ef-8463f955d989",
   "metadata": {},
   "outputs": [
    {
     "name": "stdout",
     "output_type": "stream",
     "text": [
      "6\n",
      "[2 5 8]\n",
      "[[4 5]\n",
      " [7 8]]\n"
     ]
    }
   ],
   "source": [
    "matrix = np.array([[1, 2, 3], [4, 5, 6], [7, 8, 9]])\n",
    "print(matrix[1, 2])  # Element at row index 1, col index 2 (6)\n",
    "print(matrix[:, 1])  # All rows, column 1 ([2, 5, 8])\n",
    "print(matrix[1:, :2])  # Rows 1 onwards, first 2 columns ([[4, 5], [7, 8]])"
   ]
  },
  {
   "cell_type": "code",
   "execution_count": null,
   "id": "2844ceea-ceaf-4b3f-b97b-b390c14fa62b",
   "metadata": {},
   "outputs": [],
   "source": []
  }
 ],
 "metadata": {
  "kernelspec": {
   "display_name": "Python [conda env:base] *",
   "language": "python",
   "name": "conda-base-py"
  },
  "language_info": {
   "codemirror_mode": {
    "name": "ipython",
    "version": 3
   },
   "file_extension": ".py",
   "mimetype": "text/x-python",
   "name": "python",
   "nbconvert_exporter": "python",
   "pygments_lexer": "ipython3",
   "version": "3.12.7"
  }
 },
 "nbformat": 4,
 "nbformat_minor": 5
}

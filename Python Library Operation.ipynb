{
 "cells": [
  {
   "cell_type": "code",
   "execution_count": 4,
   "id": "975578a3-f65b-4836-bc82-6b3e4c50e7c4",
   "metadata": {},
   "outputs": [
    {
     "name": "stdout",
     "output_type": "stream",
     "text": [
      "      Name  Age  Salary\n",
      "0    Alice   25   50000\n",
      "1      Bob   30   60000\n",
      "2  Charlie   35   70000\n"
     ]
    }
   ],
   "source": [
    "import pandas as pd\n",
    "data = {\n",
    "    'Name': ['Alice', 'Bob', 'Charlie'],\n",
    "    'Age': [25, 30, 35],\n",
    "    'Salary': [50000, 60000, 70000]\n",
    "}\n",
    "\n",
    "df = pd.DataFrame(data)\n",
    "print(df)\n"
   ]
  },
  {
   "cell_type": "code",
   "execution_count": 6,
   "id": "786a4ed4-448c-43b5-a624-88a76174a835",
   "metadata": {},
   "outputs": [
    {
     "name": "stdout",
     "output_type": "stream",
     "text": [
      "0    10\n",
      "1    20\n",
      "2    30\n",
      "3    40\n",
      "dtype: int64\n"
     ]
    }
   ],
   "source": [
    "import pandas as pd\n",
    "\n",
    "# Create a Series from a list\n",
    "data = [10, 20, 30, 40]\n",
    "series = pd.Series(data)\n",
    "\n",
    "print(series)\n"
   ]
  },
  {
   "cell_type": "code",
   "execution_count": 8,
   "id": "c198ddef-334c-447c-bf91-db0f1813e96b",
   "metadata": {},
   "outputs": [
    {
     "name": "stdout",
     "output_type": "stream",
     "text": [
      "Pandas Series:  Series([], dtype: object)\n",
      "Pandas Series:\n",
      " 0    g\n",
      "1    e\n",
      "2    e\n",
      "3    k\n",
      "4    s\n",
      "dtype: object\n"
     ]
    }
   ],
   "source": [
    "import pandas as pd \n",
    "import numpy as np\n",
    "\n",
    "# Creating empty series \n",
    "ser = pd.Series() \n",
    "print(\"Pandas Series: \", ser) \n",
    "\n",
    "# simple array \n",
    "data = np.array(['g', 'e', 'e', 'k', 's']) \n",
    "  \n",
    "ser = pd.Series(data) \n",
    "print(\"Pandas Series:\\n\", ser)\n"
   ]
  },
  {
   "cell_type": "code",
   "execution_count": 12,
   "id": "3c6e0b8d-d769-45da-b121-c1e40ed9b80f",
   "metadata": {},
   "outputs": [
    {
     "name": "stdout",
     "output_type": "stream",
     "text": [
      "a    100\n",
      "b    200\n",
      "c    300\n",
      "dtype: int64\n"
     ]
    }
   ],
   "source": [
    "series = pd.Series([100, 200, 300], index=['a', 'b', 'c'])\n",
    "print(series)\n"
   ]
  },
  {
   "cell_type": "code",
   "execution_count": 14,
   "id": "f249f4da-9202-4ff0-bc4c-d42b07544187",
   "metadata": {},
   "outputs": [
    {
     "name": "stdout",
     "output_type": "stream",
     "text": [
      "100\n",
      "200\n"
     ]
    },
    {
     "name": "stderr",
     "output_type": "stream",
     "text": [
      "/var/folders/kp/323_j5d51xbfkfq35kt_7_1h0000gn/T/ipykernel_959/1052080221.py:2: FutureWarning: Series.__getitem__ treating keys as positions is deprecated. In a future version, integer keys will always be treated as labels (consistent with DataFrame behavior). To access a value by position, use `ser.iloc[pos]`\n",
      "  print(series[1])    # Output: 200\n"
     ]
    }
   ],
   "source": [
    "print(series['a'])  # Output: 100\n",
    "print(series[1])    # Output: 200\n"
   ]
  },
  {
   "cell_type": "code",
   "execution_count": 16,
   "id": "daec9ff4-8363-455a-82ea-f9e26f7a6d51",
   "metadata": {},
   "outputs": [
    {
     "name": "stdout",
     "output_type": "stream",
     "text": [
      "a    200\n",
      "b    400\n",
      "c    600\n",
      "dtype: int64\n",
      "a    110\n",
      "b    210\n",
      "c    310\n",
      "dtype: int64\n"
     ]
    }
   ],
   "source": [
    "print(series * 2)  # Multiply each value by 2\n",
    "print(series + 10) # Add 10 to each value\n"
   ]
  },
  {
   "cell_type": "code",
   "execution_count": 18,
   "id": "a6093fda-8f80-4acd-9598-75f893b6b8ba",
   "metadata": {},
   "outputs": [
    {
     "name": "stdout",
     "output_type": "stream",
     "text": [
      "      Name  Age\n",
      "0    Alice   25\n",
      "1      Bob   30\n",
      "2  Charlie   35\n"
     ]
    }
   ],
   "source": [
    "data = {'Name': ['Alice', 'Bob', 'Charlie'], 'Age': [25, 30, 35]}\n",
    "df = pd.DataFrame(data)\n",
    "print(df)\n"
   ]
  },
  {
   "cell_type": "code",
   "execution_count": 22,
   "id": "41b53d7f-e36e-4882-a3ce-0fa303e47b82",
   "metadata": {},
   "outputs": [
    {
     "name": "stdout",
     "output_type": "stream",
     "text": [
      "    Name  Age\n",
      "0  Alice   25\n",
      "1    Bob   30\n"
     ]
    }
   ],
   "source": [
    "df = pd.DataFrame([['Alice', 25], ['Bob', 30]], columns=['Name', 'Age'])\n",
    "print(df)"
   ]
  },
  {
   "cell_type": "code",
   "execution_count": 24,
   "id": "229d37a7-a04b-41fb-983e-216a68787bec",
   "metadata": {},
   "outputs": [
    {
     "name": "stdout",
     "output_type": "stream",
     "text": [
      "[1 2 3 4 5]\n"
     ]
    }
   ],
   "source": [
    "arr = np.array([1, 2, 3, 4, 5])\n",
    "print(arr)\n"
   ]
  },
  {
   "cell_type": "code",
   "execution_count": null,
   "id": "b59178db-690c-4431-bbe4-5c9012719a25",
   "metadata": {},
   "outputs": [],
   "source": []
  }
 ],
 "metadata": {
  "kernelspec": {
   "display_name": "Python [conda env:base] *",
   "language": "python",
   "name": "conda-base-py"
  },
  "language_info": {
   "codemirror_mode": {
    "name": "ipython",
    "version": 3
   },
   "file_extension": ".py",
   "mimetype": "text/x-python",
   "name": "python",
   "nbconvert_exporter": "python",
   "pygments_lexer": "ipython3",
   "version": "3.12.7"
  }
 },
 "nbformat": 4,
 "nbformat_minor": 5
}
